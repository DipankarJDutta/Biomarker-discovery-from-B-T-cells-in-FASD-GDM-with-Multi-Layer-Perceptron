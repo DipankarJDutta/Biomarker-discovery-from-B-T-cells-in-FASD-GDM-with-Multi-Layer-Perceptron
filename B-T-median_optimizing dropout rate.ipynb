{
  "nbformat": 4,
  "nbformat_minor": 0,
  "metadata": {
    "colab": {
      "name": "MLP_T-cells_AS_EtOH-GDM_z-score_optimization algo_gridsearch.ipynb",
      "provenance": [],
      "collapsed_sections": [],
      "include_colab_link": true
    },
    "kernelspec": {
      "name": "python3",
      "display_name": "Python 3"
    },
    "accelerator": "TPU"
  },
  "cells": [
    {
      "cell_type": "markdown",
      "metadata": {
        "id": "view-in-github",
        "colab_type": "text"
      },
      "source": [
        "<a href=\"https://colab.research.google.com/github/DipankarJDutta/Biomarker-discovery-for-FASD-GDM-with-B-T-cells/blob/Optimizing-dropout-rate-and-weight-constraint/B-T-median_optimizing%20dropout%20rate.ipynb\" target=\"_parent\"><img src=\"https://colab.research.google.com/assets/colab-badge.svg\" alt=\"Open In Colab\"/></a>"
      ]
    },
    {
      "cell_type": "code",
      "metadata": {
        "id": "86TLkXaLMzkK",
        "colab_type": "code",
        "outputId": "9197dab0-d9ae-469d-ceaa-1a6cbf684f10",
        "colab": {
          "base_uri": "https://localhost:8080/",
          "height": 34
        }
      },
      "source": [
        "#Loading essentials\n",
        "import numpy\n",
        "from numpy import loadtxt\n",
        "from sklearn.model_selection import GridSearchCV\n",
        "from keras.models import Sequential\n",
        "from keras.layers import Dense\n",
        "from keras.layers import Dropout\n",
        "from keras.wrappers.scikit_learn import KerasClassifier\n",
        "from keras.constraints import maxnorm"
      ],
      "execution_count": 0,
      "outputs": [
        {
          "output_type": "stream",
          "text": [
            "Using TensorFlow backend.\n"
          ],
          "name": "stderr"
        }
      ]
    },
    {
      "cell_type": "code",
      "metadata": {
        "id": "72EdN6digaMt",
        "colab_type": "code",
        "colab": {}
      },
      "source": [
        "# Fixing random seed for reproducibility\n",
        "from numpy.random import seed\n",
        "seed(7)\n",
        "from tensorflow import set_random_seed\n",
        "set_random_seed(7)"
      ],
      "execution_count": 0,
      "outputs": []
    },
    {
      "cell_type": "code",
      "metadata": {
        "id": "QL_LIVyLWKvA",
        "colab_type": "code",
        "colab": {}
      },
      "source": [
        "#Creating model required for KerasClassifier\n",
        "def create_model(dropout_rate=0.0, weight_constraint=0):\n",
        "    #create model\n",
        "    model = Sequential()\n",
        "    model.add(Dense(27, input_dim=29, kernel_initializer='glorot_normal', activation='relu', kernel_constraint=maxnorm(weight_constraint)))\n",
        "    model.add(Dropout(dropout_rate))\n",
        "    model.add(Dense(39, kernel_initializer='glorot_normal', activation='relu', kernel_constraint=maxnorm(weight_constraint)))\n",
        "    model.add(Dropout(dropout_rate))\n",
        "    model.add(Dense(1, kernel_initializer='glorot_normal', activation='sigmoid'))\n",
        "    #compile model\n",
        "    model.compile(loss='binary_crossentropy', optimizer='adam', metrics=['accuracy'])\n",
        "    return model"
      ],
      "execution_count": 0,
      "outputs": []
    },
    {
      "cell_type": "code",
      "metadata": {
        "id": "cf2BdOONOrca",
        "colab_type": "code",
        "colab": {}
      },
      "source": [
        "#load dataset\n",
        "dataset = loadtxt ('B-T-median.csv', delimiter = ',')"
      ],
      "execution_count": 0,
      "outputs": []
    },
    {
      "cell_type": "code",
      "metadata": {
        "id": "HYDe7ikEO-q0",
        "colab_type": "code",
        "colab": {}
      },
      "source": [
        "#split dataset into input and output variables\n",
        "x = dataset [:, 0:29]\n",
        "y = dataset [:, 29]"
      ],
      "execution_count": 0,
      "outputs": []
    },
    {
      "cell_type": "code",
      "metadata": {
        "id": "-Q3xyQYHXY4f",
        "colab_type": "code",
        "colab": {}
      },
      "source": [
        "#Create model for gridsearch\n",
        "model = KerasClassifier (build_fn=create_model, epochs=240, batch_size=5, verbose=0)"
      ],
      "execution_count": 0,
      "outputs": []
    },
    {
      "cell_type": "code",
      "metadata": {
        "id": "qt5dX1ylX6Hs",
        "colab_type": "code",
        "outputId": "e1fafe52-2ece-41a5-d53c-cfff9313a69e",
        "colab": {
          "base_uri": "https://localhost:8080/",
          "height": 649
        }
      },
      "source": [
        "#Define Grid Search parameters for optimal Batch size for input T-cell dataset with 47 samples\n",
        "weight_constraint = [1, 2, 3, 4, 5]\n",
        "dropout_rate = [0.0, 0.1, 0.2, 0.3, 0.4, 0.5, 0.6, 0.7, 0.8, 0.9]\n",
        "param_grid = dict(dropout_rate=dropout_rate, weight_constraint=weight_constraint)\n",
        "#Jobs are run in parallel with n_jobs=-1; 10-fold cross-validation\n",
        "grid = GridSearchCV(estimator=model, param_grid = param_grid, n_jobs=-1, cv=10)\n",
        "grid_result = grid.fit(x, y)"
      ],
      "execution_count": 0,
      "outputs": [
        {
          "output_type": "stream",
          "text": [
            "/usr/local/lib/python3.6/dist-packages/joblib/externals/loky/process_executor.py:706: UserWarning: A worker stopped while some jobs were given to the executor. This can be caused by a too short worker timeout or by a memory leak.\n",
            "  \"timeout or by a memory leak.\", UserWarning\n"
          ],
          "name": "stderr"
        },
        {
          "output_type": "stream",
          "text": [
            "WARNING:tensorflow:From /usr/local/lib/python3.6/dist-packages/keras/backend/tensorflow_backend.py:66: The name tf.get_default_graph is deprecated. Please use tf.compat.v1.get_default_graph instead.\n",
            "\n",
            "WARNING:tensorflow:From /usr/local/lib/python3.6/dist-packages/keras/backend/tensorflow_backend.py:541: The name tf.placeholder is deprecated. Please use tf.compat.v1.placeholder instead.\n",
            "\n",
            "WARNING:tensorflow:From /usr/local/lib/python3.6/dist-packages/keras/backend/tensorflow_backend.py:4479: The name tf.truncated_normal is deprecated. Please use tf.random.truncated_normal instead.\n",
            "\n",
            "WARNING:tensorflow:From /usr/local/lib/python3.6/dist-packages/keras/backend/tensorflow_backend.py:148: The name tf.placeholder_with_default is deprecated. Please use tf.compat.v1.placeholder_with_default instead.\n",
            "\n",
            "WARNING:tensorflow:From /usr/local/lib/python3.6/dist-packages/keras/backend/tensorflow_backend.py:3733: calling dropout (from tensorflow.python.ops.nn_ops) with keep_prob is deprecated and will be removed in a future version.\n",
            "Instructions for updating:\n",
            "Please use `rate` instead of `keep_prob`. Rate should be set to `rate = 1 - keep_prob`.\n",
            "WARNING:tensorflow:From /usr/local/lib/python3.6/dist-packages/keras/optimizers.py:793: The name tf.train.Optimizer is deprecated. Please use tf.compat.v1.train.Optimizer instead.\n",
            "\n",
            "WARNING:tensorflow:From /usr/local/lib/python3.6/dist-packages/keras/backend/tensorflow_backend.py:3657: The name tf.log is deprecated. Please use tf.math.log instead.\n",
            "\n",
            "WARNING:tensorflow:From /usr/local/lib/python3.6/dist-packages/tensorflow_core/python/ops/nn_impl.py:183: where (from tensorflow.python.ops.array_ops) is deprecated and will be removed in a future version.\n",
            "Instructions for updating:\n",
            "Use tf.where in 2.0, which has the same broadcast rule as np.where\n",
            "WARNING:tensorflow:From /usr/local/lib/python3.6/dist-packages/keras/backend/tensorflow_backend.py:1033: The name tf.assign_add is deprecated. Please use tf.compat.v1.assign_add instead.\n",
            "\n",
            "WARNING:tensorflow:From /usr/local/lib/python3.6/dist-packages/keras/backend/tensorflow_backend.py:1020: The name tf.assign is deprecated. Please use tf.compat.v1.assign instead.\n",
            "\n",
            "WARNING:tensorflow:From /usr/local/lib/python3.6/dist-packages/keras/backend/tensorflow_backend.py:3005: The name tf.Session is deprecated. Please use tf.compat.v1.Session instead.\n",
            "\n",
            "WARNING:tensorflow:From /usr/local/lib/python3.6/dist-packages/keras/backend/tensorflow_backend.py:190: The name tf.get_default_session is deprecated. Please use tf.compat.v1.get_default_session instead.\n",
            "\n",
            "WARNING:tensorflow:From /usr/local/lib/python3.6/dist-packages/keras/backend/tensorflow_backend.py:197: The name tf.ConfigProto is deprecated. Please use tf.compat.v1.ConfigProto instead.\n",
            "\n",
            "WARNING:tensorflow:From /usr/local/lib/python3.6/dist-packages/keras/backend/tensorflow_backend.py:207: The name tf.global_variables is deprecated. Please use tf.compat.v1.global_variables instead.\n",
            "\n",
            "WARNING:tensorflow:From /usr/local/lib/python3.6/dist-packages/keras/backend/tensorflow_backend.py:216: The name tf.is_variable_initialized is deprecated. Please use tf.compat.v1.is_variable_initialized instead.\n",
            "\n",
            "WARNING:tensorflow:From /usr/local/lib/python3.6/dist-packages/keras/backend/tensorflow_backend.py:223: The name tf.variables_initializer is deprecated. Please use tf.compat.v1.variables_initializer instead.\n",
            "\n"
          ],
          "name": "stdout"
        }
      ]
    },
    {
      "cell_type": "code",
      "metadata": {
        "id": "CeK4D0Tje30X",
        "colab_type": "code",
        "outputId": "8cec3767-cbab-409f-d718-3dd1b4bcd9ee",
        "colab": {
          "base_uri": "https://localhost:8080/",
          "height": 884
        }
      },
      "source": [
        "#Summarize results\n",
        "print(\"Best: %f using %s\" % (grid_result.best_score_, grid_result.best_params_))\n",
        "means = grid_result.cv_results_['mean_test_score']\n",
        "stds = grid_result.cv_results_['std_test_score']\n",
        "params = grid_result.cv_results_['params']\n",
        "for mean, stdev, param in zip(means, stds, params):\n",
        "    print(\"%f (%f) with: %r\" % (mean, stdev, param))"
      ],
      "execution_count": 0,
      "outputs": [
        {
          "output_type": "stream",
          "text": [
            "Best: 0.676667 using {'dropout_rate': 0.1, 'weight_constraint': 3}\n",
            "0.566667 (0.165328) with: {'dropout_rate': 0.0, 'weight_constraint': 1}\n",
            "0.590000 (0.170000) with: {'dropout_rate': 0.0, 'weight_constraint': 2}\n",
            "0.520000 (0.150702) with: {'dropout_rate': 0.0, 'weight_constraint': 3}\n",
            "0.586667 (0.208273) with: {'dropout_rate': 0.0, 'weight_constraint': 4}\n",
            "0.550000 (0.162788) with: {'dropout_rate': 0.0, 'weight_constraint': 5}\n",
            "0.550000 (0.185742) with: {'dropout_rate': 0.1, 'weight_constraint': 1}\n",
            "0.590000 (0.110604) with: {'dropout_rate': 0.1, 'weight_constraint': 2}\n",
            "0.676667 (0.106510) with: {'dropout_rate': 0.1, 'weight_constraint': 3}\n",
            "0.550000 (0.193936) with: {'dropout_rate': 0.1, 'weight_constraint': 4}\n",
            "0.530000 (0.167631) with: {'dropout_rate': 0.1, 'weight_constraint': 5}\n",
            "0.520000 (0.150702) with: {'dropout_rate': 0.2, 'weight_constraint': 1}\n",
            "0.533333 (0.158465) with: {'dropout_rate': 0.2, 'weight_constraint': 2}\n",
            "0.643333 (0.148361) with: {'dropout_rate': 0.2, 'weight_constraint': 3}\n",
            "0.573333 (0.185472) with: {'dropout_rate': 0.2, 'weight_constraint': 4}\n",
            "0.600000 (0.165328) with: {'dropout_rate': 0.2, 'weight_constraint': 5}\n",
            "0.496667 (0.177294) with: {'dropout_rate': 0.3, 'weight_constraint': 1}\n",
            "0.570000 (0.172208) with: {'dropout_rate': 0.3, 'weight_constraint': 2}\n",
            "0.530000 (0.196327) with: {'dropout_rate': 0.3, 'weight_constraint': 3}\n",
            "0.553333 (0.160693) with: {'dropout_rate': 0.3, 'weight_constraint': 4}\n",
            "0.530000 (0.196327) with: {'dropout_rate': 0.3, 'weight_constraint': 5}\n",
            "0.480000 (0.095685) with: {'dropout_rate': 0.4, 'weight_constraint': 1}\n",
            "0.503333 (0.170261) with: {'dropout_rate': 0.4, 'weight_constraint': 2}\n",
            "0.510000 (0.177044) with: {'dropout_rate': 0.4, 'weight_constraint': 3}\n",
            "0.553333 (0.160693) with: {'dropout_rate': 0.4, 'weight_constraint': 4}\n",
            "0.466667 (0.188562) with: {'dropout_rate': 0.4, 'weight_constraint': 5}\n",
            "0.496667 (0.160866) with: {'dropout_rate': 0.5, 'weight_constraint': 1}\n",
            "0.506667 (0.122746) with: {'dropout_rate': 0.5, 'weight_constraint': 2}\n",
            "0.500000 (0.143759) with: {'dropout_rate': 0.5, 'weight_constraint': 3}\n",
            "0.430000 (0.162925) with: {'dropout_rate': 0.5, 'weight_constraint': 4}\n",
            "0.590000 (0.241776) with: {'dropout_rate': 0.5, 'weight_constraint': 5}\n",
            "0.443333 (0.181995) with: {'dropout_rate': 0.6, 'weight_constraint': 1}\n",
            "0.480000 (0.130979) with: {'dropout_rate': 0.6, 'weight_constraint': 2}\n",
            "0.446667 (0.198438) with: {'dropout_rate': 0.6, 'weight_constraint': 3}\n",
            "0.466667 (0.139841) with: {'dropout_rate': 0.6, 'weight_constraint': 4}\n",
            "0.520000 (0.095685) with: {'dropout_rate': 0.6, 'weight_constraint': 5}\n",
            "0.576667 (0.120231) with: {'dropout_rate': 0.7, 'weight_constraint': 1}\n",
            "0.523333 (0.159199) with: {'dropout_rate': 0.7, 'weight_constraint': 2}\n",
            "0.383333 (0.216153) with: {'dropout_rate': 0.7, 'weight_constraint': 3}\n",
            "0.470000 (0.190000) with: {'dropout_rate': 0.7, 'weight_constraint': 4}\n",
            "0.506667 (0.122746) with: {'dropout_rate': 0.7, 'weight_constraint': 5}\n",
            "0.483333 (0.262149) with: {'dropout_rate': 0.8, 'weight_constraint': 1}\n",
            "0.530000 (0.188237) with: {'dropout_rate': 0.8, 'weight_constraint': 2}\n",
            "0.546667 (0.257854) with: {'dropout_rate': 0.8, 'weight_constraint': 3}\n",
            "0.530000 (0.181628) with: {'dropout_rate': 0.8, 'weight_constraint': 4}\n",
            "0.523333 (0.190933) with: {'dropout_rate': 0.8, 'weight_constraint': 5}\n",
            "0.430000 (0.219317) with: {'dropout_rate': 0.9, 'weight_constraint': 1}\n",
            "0.576667 (0.272458) with: {'dropout_rate': 0.9, 'weight_constraint': 2}\n",
            "0.493333 (0.246216) with: {'dropout_rate': 0.9, 'weight_constraint': 3}\n",
            "0.546667 (0.257854) with: {'dropout_rate': 0.9, 'weight_constraint': 4}\n",
            "0.496667 (0.277469) with: {'dropout_rate': 0.9, 'weight_constraint': 5}\n"
          ],
          "name": "stdout"
        }
      ]
    }
  ]
}