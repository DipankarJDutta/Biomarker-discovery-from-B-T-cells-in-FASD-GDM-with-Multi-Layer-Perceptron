{
  "nbformat": 4,
  "nbformat_minor": 0,
  "metadata": {
    "colab": {
      "name": "MLP_T-cells_AS_EtOH-GDM_z-score_optimization algo_gridsearch.ipynb",
      "provenance": [],
      "collapsed_sections": [],
      "include_colab_link": true
    },
    "kernelspec": {
      "name": "python3",
      "display_name": "Python 3"
    },
    "accelerator": "TPU"
  },
  "cells": [
    {
      "cell_type": "markdown",
      "metadata": {
        "id": "view-in-github",
        "colab_type": "text"
      },
      "source": [
        "<a href=\"https://colab.research.google.com/github/DipankarJDutta/Biomarker-discovery-for-FASD-GDM-with-B-T-cells/blob/Optimizing-dropout-rate-and-weight-constraint/B-T-median_optimizing%20dropout%20rate.ipynb\" target=\"_parent\"><img src=\"https://colab.research.google.com/assets/colab-badge.svg\" alt=\"Open In Colab\"/></a>"
      ]
    },
    {
      "cell_type": "code",
      "metadata": {
        "id": "86TLkXaLMzkK",
        "colab_type": "code",
        "colab": {}
      },
      "source": [
        "#Loading essentials\n",
        "import numpy\n",
        "from numpy import loadtxt\n",
        "from sklearn.model_selection import GridSearchCV\n",
        "from keras.models import Sequential\n",
        "from keras.layers import Dense\n",
        "from keras.layers import Dropout\n",
        "from keras.wrappers.scikit_learn import KerasClassifier\n",
        "from keras.constraints import maxnorm"
      ],
      "execution_count": 0,
      "outputs": []
    },
    {
      "cell_type": "code",
      "metadata": {
        "id": "72EdN6digaMt",
        "colab_type": "code",
        "colab": {}
      },
      "source": [
        "# Fixing random seed for reproducibility\n",
        "from numpy.random import seed\n",
        "seed(7)\n",
        "from tensorflow import set_random_seed\n",
        "set_random_seed(7)"
      ],
      "execution_count": 0,
      "outputs": []
    },
    {
      "cell_type": "code",
      "metadata": {
        "id": "QL_LIVyLWKvA",
        "colab_type": "code",
        "colab": {}
      },
      "source": [
        "#Creating model required for KerasClassifier\n",
        "def create_model(dropout_rate=0.0):\n",
        "    #create model\n",
        "    model = Sequential()\n",
        "    model.add(Dense(27, input_dim=29, kernel_initializer='uniform', activation='relu'))\n",
        "    model.add(Dropout(dropout_rate))\n",
        "    model.add(Dense(1, kernel_initializer='uniform', activation='relu'))\n",
        "    model.add(Dropout(dropout_rate))\n",
        "    model.add(Dense(1, kernel_initializer='uniform', activation='sigmoid'))\n",
        "    #compile model\n",
        "    model.compile(loss='binary_crossentropy', optimizer='adam', metrics=['accuracy'])\n",
        "    return model"
      ],
      "execution_count": 0,
      "outputs": []
    },
    {
      "cell_type": "code",
      "metadata": {
        "id": "cf2BdOONOrca",
        "colab_type": "code",
        "colab": {}
      },
      "source": [
        "#load dataset\n",
        "dataset = loadtxt ('B-T-median.csv', delimiter = ',')"
      ],
      "execution_count": 0,
      "outputs": []
    },
    {
      "cell_type": "code",
      "metadata": {
        "id": "HYDe7ikEO-q0",
        "colab_type": "code",
        "colab": {}
      },
      "source": [
        "#split dataset into input and output variables\n",
        "x = dataset [:, 0:29]\n",
        "y = dataset [:, 29]"
      ],
      "execution_count": 0,
      "outputs": []
    },
    {
      "cell_type": "code",
      "metadata": {
        "id": "-Q3xyQYHXY4f",
        "colab_type": "code",
        "colab": {}
      },
      "source": [
        "#Create model for gridsearch\n",
        "model = KerasClassifier (build_fn=create_model, epochs=240, batch_size=10, verbose=0)"
      ],
      "execution_count": 0,
      "outputs": []
    },
    {
      "cell_type": "code",
      "metadata": {
        "id": "qt5dX1ylX6Hs",
        "colab_type": "code",
        "outputId": "f9151fba-ae91-4eb7-abb2-fa3eb69a7508",
        "colab": {
          "base_uri": "https://localhost:8080/",
          "height": 85
        }
      },
      "source": [
        "#Define Grid Search parameters for optimal Batch size for input T-cell dataset with 47 samples\n",
        "dropout_rate = [0.0, 0.1, 0.2, 0.3, 0.4, 0.5, 0.6, 0.7, 0.8, 0.9]\n",
        "param_grid = dict(dropout_rate=dropout_rate)\n",
        "#Jobs are run in parallel with n_jobs=-1; 10-fold cross-validation\n",
        "grid = GridSearchCV(estimator=model, param_grid = param_grid, n_jobs=-1, cv=10)\n",
        "grid_result = grid.fit(x, y)"
      ],
      "execution_count": 15,
      "outputs": [
        {
          "output_type": "stream",
          "text": [
            "/usr/local/lib/python3.6/dist-packages/joblib/externals/loky/process_executor.py:706: UserWarning: A worker stopped while some jobs were given to the executor. This can be caused by a too short worker timeout or by a memory leak.\n",
            "  \"timeout or by a memory leak.\", UserWarning\n"
          ],
          "name": "stderr"
        },
        {
          "output_type": "stream",
          "text": [
            "WARNING:tensorflow:Large dropout rate: 0.6 (>0.5). In TensorFlow 2.x, dropout() uses dropout rate instead of keep_prob. Please ensure that this is intended.\n",
            "WARNING:tensorflow:Large dropout rate: 0.6 (>0.5). In TensorFlow 2.x, dropout() uses dropout rate instead of keep_prob. Please ensure that this is intended.\n"
          ],
          "name": "stdout"
        }
      ]
    },
    {
      "cell_type": "code",
      "metadata": {
        "id": "CeK4D0Tje30X",
        "colab_type": "code",
        "outputId": "5d601c24-83c4-4cda-d350-99c562bbf077",
        "colab": {
          "base_uri": "https://localhost:8080/",
          "height": 204
        }
      },
      "source": [
        "#Summarize results\n",
        "print(\"Best: %f using %s\" % (grid_result.best_score_, grid_result.best_params_))\n",
        "means = grid_result.cv_results_['mean_test_score']\n",
        "stds = grid_result.cv_results_['std_test_score']\n",
        "params = grid_result.cv_results_['params']\n",
        "for mean, stdev, param in zip(means, stds, params):\n",
        "    print(\"%f (%f) with: %r\" % (mean, stdev, param))"
      ],
      "execution_count": 16,
      "outputs": [
        {
          "output_type": "stream",
          "text": [
            "Best: 0.526667 using {'dropout_rate': 0.6}\n",
            "0.460000 (0.220504) with: {'dropout_rate': 0.0}\n",
            "0.426667 (0.183666) with: {'dropout_rate': 0.1}\n",
            "0.460000 (0.254209) with: {'dropout_rate': 0.2}\n",
            "0.493333 (0.241201) with: {'dropout_rate': 0.3}\n",
            "0.503333 (0.212106) with: {'dropout_rate': 0.4}\n",
            "0.520000 (0.271702) with: {'dropout_rate': 0.5}\n",
            "0.526667 (0.227938) with: {'dropout_rate': 0.6}\n",
            "0.483333 (0.246419) with: {'dropout_rate': 0.7}\n",
            "0.486667 (0.210924) with: {'dropout_rate': 0.8}\n",
            "0.476667 (0.245877) with: {'dropout_rate': 0.9}\n"
          ],
          "name": "stdout"
        }
      ]
    }
  ]
}