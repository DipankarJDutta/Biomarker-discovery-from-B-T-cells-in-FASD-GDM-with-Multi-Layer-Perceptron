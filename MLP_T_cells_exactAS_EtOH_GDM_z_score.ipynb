{
  "nbformat": 4,
  "nbformat_minor": 0,
  "metadata": {
    "colab": {
      "name": "MLP_T-cells_AS_EtOH-GDM_z-score.ipynb",
      "provenance": [],
      "collapsed_sections": [],
      "include_colab_link": true
    },
    "kernelspec": {
      "name": "python3",
      "display_name": "Python 3"
    },
    "accelerator": "TPU"
  },
  "cells": [
    {
      "cell_type": "markdown",
      "metadata": {
        "id": "view-in-github",
        "colab_type": "text"
      },
      "source": [
        "<a href=\"https://colab.research.google.com/github/DipankarJDutta/WBC-Biomarker-discovery-for-FASD-GBM-using-MLP-II/blob/master/MLP_T_cells_exactAS_EtOH_GDM_z_score.ipynb\" target=\"_parent\"><img src=\"https://colab.research.google.com/assets/colab-badge.svg\" alt=\"Open In Colab\"/></a>"
      ]
    },
    {
      "cell_type": "code",
      "metadata": {
        "id": "86TLkXaLMzkK",
        "colab_type": "code",
        "colab": {
          "base_uri": "https://localhost:8080/",
          "height": 34
        },
        "outputId": "7f50d6ad-0352-4998-cdc2-4badf12dacb5"
      },
      "source": [
        "#Loading essentials\n",
        "from numpy import loadtxt\n",
        "from keras.models import Sequential\n",
        "from keras.layers import Dense"
      ],
      "execution_count": 1,
      "outputs": [
        {
          "output_type": "stream",
          "text": [
            "Using TensorFlow backend.\n"
          ],
          "name": "stderr"
        }
      ]
    },
    {
      "cell_type": "code",
      "metadata": {
        "id": "cf2BdOONOrca",
        "colab_type": "code",
        "colab": {}
      },
      "source": [
        "#load z-scored inclevel values of significantly AS genes in T-cells common to EtOH & GDM datasets\n",
        "dataset = loadtxt ('t-cell_exactAS_z.csv', delimiter = ',')"
      ],
      "execution_count": 0,
      "outputs": []
    },
    {
      "cell_type": "code",
      "metadata": {
        "id": "HYDe7ikEO-q0",
        "colab_type": "code",
        "colab": {}
      },
      "source": [
        "#split dataset into input and output variables (13 input, 1 output)\n",
        "x = dataset [:, 0:13]\n",
        "y = dataset [:, 13]"
      ],
      "execution_count": 0,
      "outputs": []
    },
    {
      "cell_type": "code",
      "metadata": {
        "id": "bIhgfFm9PDdS",
        "colab_type": "code",
        "colab": {
          "base_uri": "https://localhost:8080/",
          "height": 139
        },
        "outputId": "38954473-f40c-4359-fb8c-17af9e587979"
      },
      "source": [
        "#define the keras DL model: Input layer: 13; 2 hidden layers; Hidden layer 1: 12 neurons; Hidden layer 2: 8 neurons; Output layer: 1\n",
        "model = Sequential ()\n",
        "model.add(Dense(12, input_dim=13, activation='relu'))\n",
        "model.add(Dense(8, activation='relu'))\n",
        "model.add(Dense(1, activation='sigmoid'))"
      ],
      "execution_count": 4,
      "outputs": [
        {
          "output_type": "stream",
          "text": [
            "WARNING:tensorflow:From /usr/local/lib/python3.6/dist-packages/keras/backend/tensorflow_backend.py:66: The name tf.get_default_graph is deprecated. Please use tf.compat.v1.get_default_graph instead.\n",
            "\n",
            "WARNING:tensorflow:From /usr/local/lib/python3.6/dist-packages/keras/backend/tensorflow_backend.py:541: The name tf.placeholder is deprecated. Please use tf.compat.v1.placeholder instead.\n",
            "\n",
            "WARNING:tensorflow:From /usr/local/lib/python3.6/dist-packages/keras/backend/tensorflow_backend.py:4432: The name tf.random_uniform is deprecated. Please use tf.random.uniform instead.\n",
            "\n"
          ],
          "name": "stdout"
        }
      ]
    },
    {
      "cell_type": "code",
      "metadata": {
        "id": "7cdclkz3PQ52",
        "colab_type": "code",
        "colab": {
          "base_uri": "https://localhost:8080/",
          "height": 156
        },
        "outputId": "03b94dd6-b51a-4d0a-babb-faad53c2e1be"
      },
      "source": [
        "#compile the keras DL model \n",
        "model.compile(loss='binary_crossentropy', optimizer='adam', metrics=['accuracy'])"
      ],
      "execution_count": 5,
      "outputs": [
        {
          "output_type": "stream",
          "text": [
            "WARNING:tensorflow:From /usr/local/lib/python3.6/dist-packages/keras/optimizers.py:793: The name tf.train.Optimizer is deprecated. Please use tf.compat.v1.train.Optimizer instead.\n",
            "\n",
            "WARNING:tensorflow:From /usr/local/lib/python3.6/dist-packages/keras/backend/tensorflow_backend.py:3657: The name tf.log is deprecated. Please use tf.math.log instead.\n",
            "\n",
            "WARNING:tensorflow:From /usr/local/lib/python3.6/dist-packages/tensorflow_core/python/ops/nn_impl.py:183: where (from tensorflow.python.ops.array_ops) is deprecated and will be removed in a future version.\n",
            "Instructions for updating:\n",
            "Use tf.where in 2.0, which has the same broadcast rule as np.where\n"
          ],
          "name": "stdout"
        }
      ]
    },
    {
      "cell_type": "code",
      "metadata": {
        "id": "bIRDdz_RPc76",
        "colab_type": "code",
        "outputId": "1d3ae365-e0c8-40ff-cf03-b13481b1f1c1",
        "colab": {
          "base_uri": "https://localhost:8080/",
          "height": 1000
        }
      },
      "source": [
        "#Train the model with an epoch of 100, a batch size of 15, a validation split of 80-20)\n",
        "model.fit(x, y, validation_split = 0.2, epochs=100, batch_size=15)"
      ],
      "execution_count": 6,
      "outputs": [
        {
          "output_type": "stream",
          "text": [
            "WARNING:tensorflow:From /usr/local/lib/python3.6/dist-packages/keras/backend/tensorflow_backend.py:1033: The name tf.assign_add is deprecated. Please use tf.compat.v1.assign_add instead.\n",
            "\n",
            "WARNING:tensorflow:From /usr/local/lib/python3.6/dist-packages/keras/backend/tensorflow_backend.py:1020: The name tf.assign is deprecated. Please use tf.compat.v1.assign instead.\n",
            "\n",
            "WARNING:tensorflow:From /usr/local/lib/python3.6/dist-packages/keras/backend/tensorflow_backend.py:3005: The name tf.Session is deprecated. Please use tf.compat.v1.Session instead.\n",
            "\n",
            "Train on 38 samples, validate on 10 samples\n",
            "Epoch 1/100\n",
            "WARNING:tensorflow:From /usr/local/lib/python3.6/dist-packages/keras/backend/tensorflow_backend.py:190: The name tf.get_default_session is deprecated. Please use tf.compat.v1.get_default_session instead.\n",
            "\n",
            "WARNING:tensorflow:From /usr/local/lib/python3.6/dist-packages/keras/backend/tensorflow_backend.py:197: The name tf.ConfigProto is deprecated. Please use tf.compat.v1.ConfigProto instead.\n",
            "\n",
            "WARNING:tensorflow:From /usr/local/lib/python3.6/dist-packages/keras/backend/tensorflow_backend.py:207: The name tf.global_variables is deprecated. Please use tf.compat.v1.global_variables instead.\n",
            "\n",
            "WARNING:tensorflow:From /usr/local/lib/python3.6/dist-packages/keras/backend/tensorflow_backend.py:216: The name tf.is_variable_initialized is deprecated. Please use tf.compat.v1.is_variable_initialized instead.\n",
            "\n",
            "WARNING:tensorflow:From /usr/local/lib/python3.6/dist-packages/keras/backend/tensorflow_backend.py:223: The name tf.variables_initializer is deprecated. Please use tf.compat.v1.variables_initializer instead.\n",
            "\n",
            "38/38 [==============================] - 1s 20ms/step - loss: 0.6835 - acc: 0.5526 - val_loss: 0.7272 - val_acc: 0.5000\n",
            "Epoch 2/100\n",
            "38/38 [==============================] - 0s 313us/step - loss: 0.6782 - acc: 0.5789 - val_loss: 0.7206 - val_acc: 0.5000\n",
            "Epoch 3/100\n",
            "38/38 [==============================] - 0s 300us/step - loss: 0.6733 - acc: 0.6053 - val_loss: 0.7157 - val_acc: 0.5000\n",
            "Epoch 4/100\n",
            "38/38 [==============================] - 0s 251us/step - loss: 0.6685 - acc: 0.6053 - val_loss: 0.7108 - val_acc: 0.5000\n",
            "Epoch 5/100\n",
            "38/38 [==============================] - 0s 234us/step - loss: 0.6644 - acc: 0.6053 - val_loss: 0.7061 - val_acc: 0.5000\n",
            "Epoch 6/100\n",
            "38/38 [==============================] - 0s 280us/step - loss: 0.6602 - acc: 0.6316 - val_loss: 0.7016 - val_acc: 0.5000\n",
            "Epoch 7/100\n",
            "38/38 [==============================] - 0s 301us/step - loss: 0.6562 - acc: 0.6316 - val_loss: 0.6982 - val_acc: 0.5000\n",
            "Epoch 8/100\n",
            "38/38 [==============================] - 0s 256us/step - loss: 0.6520 - acc: 0.6579 - val_loss: 0.6955 - val_acc: 0.5000\n",
            "Epoch 9/100\n",
            "38/38 [==============================] - 0s 265us/step - loss: 0.6481 - acc: 0.6842 - val_loss: 0.6935 - val_acc: 0.5000\n",
            "Epoch 10/100\n",
            "38/38 [==============================] - 0s 314us/step - loss: 0.6442 - acc: 0.7105 - val_loss: 0.6919 - val_acc: 0.5000\n",
            "Epoch 11/100\n",
            "38/38 [==============================] - 0s 264us/step - loss: 0.6406 - acc: 0.7368 - val_loss: 0.6904 - val_acc: 0.5000\n",
            "Epoch 12/100\n",
            "38/38 [==============================] - 0s 229us/step - loss: 0.6373 - acc: 0.7368 - val_loss: 0.6882 - val_acc: 0.5000\n",
            "Epoch 13/100\n",
            "38/38 [==============================] - 0s 224us/step - loss: 0.6335 - acc: 0.7368 - val_loss: 0.6870 - val_acc: 0.5000\n",
            "Epoch 14/100\n",
            "38/38 [==============================] - 0s 237us/step - loss: 0.6302 - acc: 0.7368 - val_loss: 0.6864 - val_acc: 0.5000\n",
            "Epoch 15/100\n",
            "38/38 [==============================] - 0s 218us/step - loss: 0.6267 - acc: 0.7632 - val_loss: 0.6862 - val_acc: 0.5000\n",
            "Epoch 16/100\n",
            "38/38 [==============================] - 0s 259us/step - loss: 0.6234 - acc: 0.7632 - val_loss: 0.6865 - val_acc: 0.5000\n",
            "Epoch 17/100\n",
            "38/38 [==============================] - 0s 245us/step - loss: 0.6203 - acc: 0.7368 - val_loss: 0.6862 - val_acc: 0.5000\n",
            "Epoch 18/100\n",
            "38/38 [==============================] - 0s 233us/step - loss: 0.6171 - acc: 0.7368 - val_loss: 0.6866 - val_acc: 0.5000\n",
            "Epoch 19/100\n",
            "38/38 [==============================] - 0s 261us/step - loss: 0.6138 - acc: 0.7632 - val_loss: 0.6867 - val_acc: 0.5000\n",
            "Epoch 20/100\n",
            "38/38 [==============================] - 0s 334us/step - loss: 0.6106 - acc: 0.7632 - val_loss: 0.6863 - val_acc: 0.5000\n",
            "Epoch 21/100\n",
            "38/38 [==============================] - 0s 308us/step - loss: 0.6074 - acc: 0.7632 - val_loss: 0.6860 - val_acc: 0.5000\n",
            "Epoch 22/100\n",
            "38/38 [==============================] - 0s 250us/step - loss: 0.6041 - acc: 0.7632 - val_loss: 0.6858 - val_acc: 0.5000\n",
            "Epoch 23/100\n",
            "38/38 [==============================] - 0s 208us/step - loss: 0.6007 - acc: 0.7632 - val_loss: 0.6851 - val_acc: 0.5000\n",
            "Epoch 24/100\n",
            "38/38 [==============================] - 0s 229us/step - loss: 0.5980 - acc: 0.7632 - val_loss: 0.6845 - val_acc: 0.5000\n",
            "Epoch 25/100\n",
            "38/38 [==============================] - 0s 224us/step - loss: 0.5947 - acc: 0.7632 - val_loss: 0.6835 - val_acc: 0.5000\n",
            "Epoch 26/100\n",
            "38/38 [==============================] - 0s 244us/step - loss: 0.5916 - acc: 0.7632 - val_loss: 0.6824 - val_acc: 0.5000\n",
            "Epoch 27/100\n",
            "38/38 [==============================] - 0s 262us/step - loss: 0.5890 - acc: 0.7632 - val_loss: 0.6815 - val_acc: 0.5000\n",
            "Epoch 28/100\n",
            "38/38 [==============================] - 0s 237us/step - loss: 0.5860 - acc: 0.7632 - val_loss: 0.6811 - val_acc: 0.5000\n",
            "Epoch 29/100\n",
            "38/38 [==============================] - 0s 249us/step - loss: 0.5832 - acc: 0.7632 - val_loss: 0.6813 - val_acc: 0.5000\n",
            "Epoch 30/100\n",
            "38/38 [==============================] - 0s 323us/step - loss: 0.5802 - acc: 0.7632 - val_loss: 0.6814 - val_acc: 0.5000\n",
            "Epoch 31/100\n",
            "38/38 [==============================] - 0s 325us/step - loss: 0.5772 - acc: 0.7632 - val_loss: 0.6811 - val_acc: 0.5000\n",
            "Epoch 32/100\n",
            "38/38 [==============================] - 0s 299us/step - loss: 0.5745 - acc: 0.7632 - val_loss: 0.6810 - val_acc: 0.5000\n",
            "Epoch 33/100\n",
            "38/38 [==============================] - 0s 358us/step - loss: 0.5716 - acc: 0.7632 - val_loss: 0.6807 - val_acc: 0.5000\n",
            "Epoch 34/100\n",
            "38/38 [==============================] - 0s 292us/step - loss: 0.5686 - acc: 0.7632 - val_loss: 0.6801 - val_acc: 0.5000\n",
            "Epoch 35/100\n",
            "38/38 [==============================] - 0s 292us/step - loss: 0.5655 - acc: 0.7895 - val_loss: 0.6795 - val_acc: 0.5000\n",
            "Epoch 36/100\n",
            "38/38 [==============================] - 0s 248us/step - loss: 0.5627 - acc: 0.7895 - val_loss: 0.6794 - val_acc: 0.5000\n",
            "Epoch 37/100\n",
            "38/38 [==============================] - 0s 288us/step - loss: 0.5596 - acc: 0.7895 - val_loss: 0.6790 - val_acc: 0.5000\n",
            "Epoch 38/100\n",
            "38/38 [==============================] - 0s 275us/step - loss: 0.5567 - acc: 0.7895 - val_loss: 0.6790 - val_acc: 0.6000\n",
            "Epoch 39/100\n",
            "38/38 [==============================] - 0s 337us/step - loss: 0.5542 - acc: 0.7895 - val_loss: 0.6788 - val_acc: 0.5000\n",
            "Epoch 40/100\n",
            "38/38 [==============================] - 0s 305us/step - loss: 0.5513 - acc: 0.7895 - val_loss: 0.6791 - val_acc: 0.5000\n",
            "Epoch 41/100\n",
            "38/38 [==============================] - 0s 435us/step - loss: 0.5481 - acc: 0.7895 - val_loss: 0.6794 - val_acc: 0.5000\n",
            "Epoch 42/100\n",
            "38/38 [==============================] - 0s 444us/step - loss: 0.5454 - acc: 0.7895 - val_loss: 0.6803 - val_acc: 0.5000\n",
            "Epoch 43/100\n",
            "38/38 [==============================] - 0s 243us/step - loss: 0.5427 - acc: 0.7895 - val_loss: 0.6810 - val_acc: 0.5000\n",
            "Epoch 44/100\n",
            "38/38 [==============================] - 0s 366us/step - loss: 0.5396 - acc: 0.7895 - val_loss: 0.6819 - val_acc: 0.5000\n",
            "Epoch 45/100\n",
            "38/38 [==============================] - 0s 256us/step - loss: 0.5367 - acc: 0.7895 - val_loss: 0.6824 - val_acc: 0.5000\n",
            "Epoch 46/100\n",
            "38/38 [==============================] - 0s 408us/step - loss: 0.5338 - acc: 0.7895 - val_loss: 0.6822 - val_acc: 0.5000\n",
            "Epoch 47/100\n",
            "38/38 [==============================] - 0s 315us/step - loss: 0.5311 - acc: 0.7895 - val_loss: 0.6825 - val_acc: 0.5000\n",
            "Epoch 48/100\n",
            "38/38 [==============================] - 0s 282us/step - loss: 0.5280 - acc: 0.7895 - val_loss: 0.6826 - val_acc: 0.5000\n",
            "Epoch 49/100\n",
            "38/38 [==============================] - 0s 269us/step - loss: 0.5250 - acc: 0.7895 - val_loss: 0.6829 - val_acc: 0.5000\n",
            "Epoch 50/100\n",
            "38/38 [==============================] - 0s 287us/step - loss: 0.5221 - acc: 0.7895 - val_loss: 0.6834 - val_acc: 0.5000\n",
            "Epoch 51/100\n",
            "38/38 [==============================] - 0s 325us/step - loss: 0.5189 - acc: 0.7895 - val_loss: 0.6840 - val_acc: 0.5000\n",
            "Epoch 52/100\n",
            "38/38 [==============================] - 0s 266us/step - loss: 0.5158 - acc: 0.7895 - val_loss: 0.6844 - val_acc: 0.5000\n",
            "Epoch 53/100\n",
            "38/38 [==============================] - 0s 260us/step - loss: 0.5122 - acc: 0.7895 - val_loss: 0.6845 - val_acc: 0.5000\n",
            "Epoch 54/100\n",
            "38/38 [==============================] - 0s 352us/step - loss: 0.5092 - acc: 0.7895 - val_loss: 0.6844 - val_acc: 0.5000\n",
            "Epoch 55/100\n",
            "38/38 [==============================] - 0s 344us/step - loss: 0.5058 - acc: 0.7895 - val_loss: 0.6848 - val_acc: 0.5000\n",
            "Epoch 56/100\n",
            "38/38 [==============================] - 0s 326us/step - loss: 0.5023 - acc: 0.7895 - val_loss: 0.6851 - val_acc: 0.5000\n",
            "Epoch 57/100\n",
            "38/38 [==============================] - 0s 237us/step - loss: 0.4984 - acc: 0.7895 - val_loss: 0.6856 - val_acc: 0.5000\n",
            "Epoch 58/100\n",
            "38/38 [==============================] - 0s 256us/step - loss: 0.4943 - acc: 0.7895 - val_loss: 0.6861 - val_acc: 0.5000\n",
            "Epoch 59/100\n",
            "38/38 [==============================] - 0s 337us/step - loss: 0.4905 - acc: 0.7895 - val_loss: 0.6866 - val_acc: 0.5000\n",
            "Epoch 60/100\n",
            "38/38 [==============================] - 0s 244us/step - loss: 0.4862 - acc: 0.7895 - val_loss: 0.6875 - val_acc: 0.5000\n",
            "Epoch 61/100\n",
            "38/38 [==============================] - 0s 249us/step - loss: 0.4818 - acc: 0.7895 - val_loss: 0.6886 - val_acc: 0.5000\n",
            "Epoch 62/100\n",
            "38/38 [==============================] - 0s 240us/step - loss: 0.4776 - acc: 0.7895 - val_loss: 0.6895 - val_acc: 0.5000\n",
            "Epoch 63/100\n",
            "38/38 [==============================] - 0s 268us/step - loss: 0.4733 - acc: 0.7895 - val_loss: 0.6908 - val_acc: 0.5000\n",
            "Epoch 64/100\n",
            "38/38 [==============================] - 0s 223us/step - loss: 0.4686 - acc: 0.8158 - val_loss: 0.6924 - val_acc: 0.5000\n",
            "Epoch 65/100\n",
            "38/38 [==============================] - 0s 252us/step - loss: 0.4647 - acc: 0.8158 - val_loss: 0.6941 - val_acc: 0.5000\n",
            "Epoch 66/100\n",
            "38/38 [==============================] - 0s 410us/step - loss: 0.4604 - acc: 0.8158 - val_loss: 0.6954 - val_acc: 0.5000\n",
            "Epoch 67/100\n",
            "38/38 [==============================] - 0s 201us/step - loss: 0.4559 - acc: 0.8158 - val_loss: 0.6967 - val_acc: 0.5000\n",
            "Epoch 68/100\n",
            "38/38 [==============================] - 0s 211us/step - loss: 0.4517 - acc: 0.8158 - val_loss: 0.6980 - val_acc: 0.5000\n",
            "Epoch 69/100\n",
            "38/38 [==============================] - 0s 213us/step - loss: 0.4473 - acc: 0.8158 - val_loss: 0.6989 - val_acc: 0.5000\n",
            "Epoch 70/100\n",
            "38/38 [==============================] - 0s 729us/step - loss: 0.4426 - acc: 0.8158 - val_loss: 0.6987 - val_acc: 0.5000\n",
            "Epoch 71/100\n",
            "38/38 [==============================] - 0s 356us/step - loss: 0.4384 - acc: 0.8158 - val_loss: 0.6977 - val_acc: 0.5000\n",
            "Epoch 72/100\n",
            "38/38 [==============================] - 0s 379us/step - loss: 0.4340 - acc: 0.8158 - val_loss: 0.6975 - val_acc: 0.5000\n",
            "Epoch 73/100\n",
            "38/38 [==============================] - 0s 379us/step - loss: 0.4294 - acc: 0.8158 - val_loss: 0.6970 - val_acc: 0.5000\n",
            "Epoch 74/100\n",
            "38/38 [==============================] - 0s 246us/step - loss: 0.4249 - acc: 0.8158 - val_loss: 0.6964 - val_acc: 0.5000\n",
            "Epoch 75/100\n",
            "38/38 [==============================] - 0s 315us/step - loss: 0.4206 - acc: 0.8158 - val_loss: 0.6952 - val_acc: 0.5000\n",
            "Epoch 76/100\n",
            "38/38 [==============================] - 0s 245us/step - loss: 0.4168 - acc: 0.8158 - val_loss: 0.6939 - val_acc: 0.5000\n",
            "Epoch 77/100\n",
            "38/38 [==============================] - 0s 278us/step - loss: 0.4123 - acc: 0.8158 - val_loss: 0.6932 - val_acc: 0.5000\n",
            "Epoch 78/100\n",
            "38/38 [==============================] - 0s 263us/step - loss: 0.4082 - acc: 0.8158 - val_loss: 0.6921 - val_acc: 0.5000\n",
            "Epoch 79/100\n",
            "38/38 [==============================] - 0s 310us/step - loss: 0.4043 - acc: 0.8421 - val_loss: 0.6912 - val_acc: 0.5000\n",
            "Epoch 80/100\n",
            "38/38 [==============================] - 0s 284us/step - loss: 0.4003 - acc: 0.8421 - val_loss: 0.6901 - val_acc: 0.5000\n",
            "Epoch 81/100\n",
            "38/38 [==============================] - 0s 270us/step - loss: 0.3962 - acc: 0.8684 - val_loss: 0.6893 - val_acc: 0.5000\n",
            "Epoch 82/100\n",
            "38/38 [==============================] - 0s 279us/step - loss: 0.3916 - acc: 0.8684 - val_loss: 0.6890 - val_acc: 0.5000\n",
            "Epoch 83/100\n",
            "38/38 [==============================] - 0s 305us/step - loss: 0.3877 - acc: 0.8684 - val_loss: 0.6887 - val_acc: 0.5000\n",
            "Epoch 84/100\n",
            "38/38 [==============================] - 0s 286us/step - loss: 0.3833 - acc: 0.8684 - val_loss: 0.6886 - val_acc: 0.5000\n",
            "Epoch 85/100\n",
            "38/38 [==============================] - 0s 292us/step - loss: 0.3794 - acc: 0.8684 - val_loss: 0.6891 - val_acc: 0.5000\n",
            "Epoch 86/100\n",
            "38/38 [==============================] - 0s 272us/step - loss: 0.3753 - acc: 0.8684 - val_loss: 0.6904 - val_acc: 0.5000\n",
            "Epoch 87/100\n",
            "38/38 [==============================] - 0s 277us/step - loss: 0.3715 - acc: 0.8684 - val_loss: 0.6920 - val_acc: 0.5000\n",
            "Epoch 88/100\n",
            "38/38 [==============================] - 0s 296us/step - loss: 0.3675 - acc: 0.8684 - val_loss: 0.6928 - val_acc: 0.5000\n",
            "Epoch 89/100\n",
            "38/38 [==============================] - 0s 264us/step - loss: 0.3635 - acc: 0.8684 - val_loss: 0.6935 - val_acc: 0.5000\n",
            "Epoch 90/100\n",
            "38/38 [==============================] - 0s 235us/step - loss: 0.3600 - acc: 0.8684 - val_loss: 0.6939 - val_acc: 0.5000\n",
            "Epoch 91/100\n",
            "38/38 [==============================] - 0s 245us/step - loss: 0.3559 - acc: 0.8684 - val_loss: 0.6959 - val_acc: 0.5000\n",
            "Epoch 92/100\n",
            "38/38 [==============================] - 0s 248us/step - loss: 0.3518 - acc: 0.8684 - val_loss: 0.6985 - val_acc: 0.5000\n",
            "Epoch 93/100\n",
            "38/38 [==============================] - 0s 241us/step - loss: 0.3481 - acc: 0.8684 - val_loss: 0.7019 - val_acc: 0.5000\n",
            "Epoch 94/100\n",
            "38/38 [==============================] - 0s 231us/step - loss: 0.3441 - acc: 0.8684 - val_loss: 0.7047 - val_acc: 0.5000\n",
            "Epoch 95/100\n",
            "38/38 [==============================] - 0s 251us/step - loss: 0.3401 - acc: 0.8684 - val_loss: 0.7069 - val_acc: 0.5000\n",
            "Epoch 96/100\n",
            "38/38 [==============================] - 0s 266us/step - loss: 0.3363 - acc: 0.8684 - val_loss: 0.7099 - val_acc: 0.5000\n",
            "Epoch 97/100\n",
            "38/38 [==============================] - 0s 255us/step - loss: 0.3324 - acc: 0.8684 - val_loss: 0.7127 - val_acc: 0.5000\n",
            "Epoch 98/100\n",
            "38/38 [==============================] - 0s 259us/step - loss: 0.3285 - acc: 0.8684 - val_loss: 0.7162 - val_acc: 0.5000\n",
            "Epoch 99/100\n",
            "38/38 [==============================] - 0s 262us/step - loss: 0.3248 - acc: 0.8684 - val_loss: 0.7204 - val_acc: 0.5000\n",
            "Epoch 100/100\n",
            "38/38 [==============================] - 0s 254us/step - loss: 0.3207 - acc: 0.8684 - val_loss: 0.7257 - val_acc: 0.5000\n"
          ],
          "name": "stdout"
        },
        {
          "output_type": "execute_result",
          "data": {
            "text/plain": [
              "<keras.callbacks.History at 0x7fd73014e7b8>"
            ]
          },
          "metadata": {
            "tags": []
          },
          "execution_count": 6
        }
      ]
    },
    {
      "cell_type": "code",
      "metadata": {
        "id": "a2fcujpXPlMu",
        "colab_type": "code",
        "outputId": "509e3936-6009-4a69-96cd-e3fd1f700936",
        "colab": {
          "base_uri": "https://localhost:8080/",
          "height": 34
        }
      },
      "source": [
        "#Evaluate the accuracy of the Keras model with #10-fold cross-validation\n",
        "scores = model.evaluate(x, y, verbose=0)\n",
        "print(\"%s: %.2f%%\" % (model.metrics_names[1], scores[1]*100))"
      ],
      "execution_count": 7,
      "outputs": [
        {
          "output_type": "stream",
          "text": [
            "acc: 79.17%\n"
          ],
          "name": "stdout"
        }
      ]
    },
    {
      "cell_type": "code",
      "metadata": {
        "id": "QjV0AFryPmMB",
        "colab_type": "code",
        "colab": {}
      },
      "source": [
        "#Save model and architecture to a single file\n",
        "model.save(\"DL_T-cells_exactAS\")"
      ],
      "execution_count": 0,
      "outputs": []
    }
  ]
}