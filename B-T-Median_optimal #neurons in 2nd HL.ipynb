{
  "nbformat": 4,
  "nbformat_minor": 0,
  "metadata": {
    "colab": {
      "name": "MLP_T-cells_AS_EtOH-GDM_z-score_optimization algo_gridsearch.ipynb",
      "provenance": [],
      "collapsed_sections": [],
      "include_colab_link": true
    },
    "kernelspec": {
      "name": "python3",
      "display_name": "Python 3"
    },
    "accelerator": "TPU"
  },
  "cells": [
    {
      "cell_type": "markdown",
      "metadata": {
        "id": "view-in-github",
        "colab_type": "text"
      },
      "source": [
        "<a href=\"https://colab.research.google.com/github/DipankarJDutta/Biomarker-discovery-for-FASD-GDM-with-B-T-cells/blob/Optimizing-number-of-neurons-and-hidden-layers/B-T-Median_optimal%20%23neurons%20in%202nd%20HL.ipynb\" target=\"_parent\"><img src=\"https://colab.research.google.com/assets/colab-badge.svg\" alt=\"Open In Colab\"/></a>"
      ]
    },
    {
      "cell_type": "code",
      "metadata": {
        "id": "86TLkXaLMzkK",
        "colab_type": "code",
        "outputId": "4961ae23-33aa-4153-fd39-fb23def4569e",
        "colab": {
          "base_uri": "https://localhost:8080/",
          "height": 34
        }
      },
      "source": [
        "#Loading essentials\n",
        "import numpy\n",
        "from numpy import loadtxt\n",
        "from sklearn.model_selection import GridSearchCV\n",
        "from keras.models import Sequential\n",
        "from keras.layers import Dense\n",
        "from keras.layers import Dropout\n",
        "from keras.wrappers.scikit_learn import KerasClassifier\n",
        "from keras.constraints import maxnorm"
      ],
      "execution_count": 0,
      "outputs": [
        {
          "output_type": "stream",
          "text": [
            "Using TensorFlow backend.\n"
          ],
          "name": "stderr"
        }
      ]
    },
    {
      "cell_type": "code",
      "metadata": {
        "id": "72EdN6digaMt",
        "colab_type": "code",
        "colab": {}
      },
      "source": [
        "# Fixing random seed for reproducibility\n",
        "from numpy.random import seed\n",
        "seed(7)\n",
        "from tensorflow import set_random_seed\n",
        "set_random_seed(7)"
      ],
      "execution_count": 0,
      "outputs": []
    },
    {
      "cell_type": "code",
      "metadata": {
        "id": "QL_LIVyLWKvA",
        "colab_type": "code",
        "colab": {}
      },
      "source": [
        "#Creating model for KerasClassifier\n",
        "def create_model(neurons=1):\n",
        "    #create model\n",
        "    model = Sequential()\n",
        "    model.add(Dense(neurons, input_dim=29, activation='relu'))\n",
        "    model.add(Dense(1, activation='sigmoid'))\n",
        "    #compile model\n",
        "    model.compile(loss='binary_crossentropy', optimizer='adam', metrics=['accuracy'])\n",
        "    return model"
      ],
      "execution_count": 0,
      "outputs": []
    },
    {
      "cell_type": "code",
      "metadata": {
        "id": "cf2BdOONOrca",
        "colab_type": "code",
        "colab": {}
      },
      "source": [
        "#load dataset\n",
        "dataset = loadtxt ('B-T-median.csv', delimiter = ',')"
      ],
      "execution_count": 0,
      "outputs": []
    },
    {
      "cell_type": "code",
      "metadata": {
        "id": "HYDe7ikEO-q0",
        "colab_type": "code",
        "colab": {}
      },
      "source": [
        "#split dataset into input and output variables\n",
        "x = dataset [:, 0:29]\n",
        "y = dataset [:, 29]"
      ],
      "execution_count": 0,
      "outputs": []
    },
    {
      "cell_type": "code",
      "metadata": {
        "id": "-Q3xyQYHXY4f",
        "colab_type": "code",
        "colab": {}
      },
      "source": [
        "#Create model for gridsearch\n",
        "model = KerasClassifier (build_fn=create_model, epochs=200, batch_size=10, verbose=0)"
      ],
      "execution_count": 0,
      "outputs": []
    },
    {
      "cell_type": "code",
      "metadata": {
        "id": "qt5dX1ylX6Hs",
        "colab_type": "code",
        "outputId": "bbcc9282-000e-447a-ef84-35b7f830a6b5",
        "colab": {
          "base_uri": "https://localhost:8080/",
          "height": 564
        }
      },
      "source": [
        "#Define Grid Search parameters\n",
        "neurons = [1, 2, 3, 4, 5, 6, 7, 8, 9, 10, 11, 12, 13, 14, 15, 16, 17, 18, 19, 20, 21, 22, 23, 24, 25, 26, 27, 28, 29, 30, 31, 32, 33, 34, 35, 36, 37, 38, 39, 40, 41, 42, 43, 44, 45, 46, 47, 48, 49, 50, 51, 52, 53, 54, 55, 56, 57, 58, 59, 60]\n",
        "param_grid = dict(neurons=neurons)\n",
        "#Jobs are run in parallel with n_jobs=-1; 10-fold cross-validation\n",
        "grid = GridSearchCV(estimator=model, param_grid = param_grid, n_jobs=-1, cv=10)\n",
        "grid_result = grid.fit(x, y)"
      ],
      "execution_count": 0,
      "outputs": [
        {
          "output_type": "stream",
          "text": [
            "/usr/local/lib/python3.6/dist-packages/joblib/externals/loky/process_executor.py:706: UserWarning: A worker stopped while some jobs were given to the executor. This can be caused by a too short worker timeout or by a memory leak.\n",
            "  \"timeout or by a memory leak.\", UserWarning\n"
          ],
          "name": "stderr"
        },
        {
          "output_type": "stream",
          "text": [
            "WARNING:tensorflow:From /usr/local/lib/python3.6/dist-packages/keras/backend/tensorflow_backend.py:66: The name tf.get_default_graph is deprecated. Please use tf.compat.v1.get_default_graph instead.\n",
            "\n",
            "WARNING:tensorflow:From /usr/local/lib/python3.6/dist-packages/keras/backend/tensorflow_backend.py:541: The name tf.placeholder is deprecated. Please use tf.compat.v1.placeholder instead.\n",
            "\n",
            "WARNING:tensorflow:From /usr/local/lib/python3.6/dist-packages/keras/backend/tensorflow_backend.py:4432: The name tf.random_uniform is deprecated. Please use tf.random.uniform instead.\n",
            "\n",
            "WARNING:tensorflow:From /usr/local/lib/python3.6/dist-packages/keras/optimizers.py:793: The name tf.train.Optimizer is deprecated. Please use tf.compat.v1.train.Optimizer instead.\n",
            "\n",
            "WARNING:tensorflow:From /usr/local/lib/python3.6/dist-packages/keras/backend/tensorflow_backend.py:3657: The name tf.log is deprecated. Please use tf.math.log instead.\n",
            "\n",
            "WARNING:tensorflow:From /usr/local/lib/python3.6/dist-packages/tensorflow_core/python/ops/nn_impl.py:183: where (from tensorflow.python.ops.array_ops) is deprecated and will be removed in a future version.\n",
            "Instructions for updating:\n",
            "Use tf.where in 2.0, which has the same broadcast rule as np.where\n",
            "WARNING:tensorflow:From /usr/local/lib/python3.6/dist-packages/keras/backend/tensorflow_backend.py:1033: The name tf.assign_add is deprecated. Please use tf.compat.v1.assign_add instead.\n",
            "\n",
            "WARNING:tensorflow:From /usr/local/lib/python3.6/dist-packages/keras/backend/tensorflow_backend.py:1020: The name tf.assign is deprecated. Please use tf.compat.v1.assign instead.\n",
            "\n",
            "WARNING:tensorflow:From /usr/local/lib/python3.6/dist-packages/keras/backend/tensorflow_backend.py:3005: The name tf.Session is deprecated. Please use tf.compat.v1.Session instead.\n",
            "\n",
            "WARNING:tensorflow:From /usr/local/lib/python3.6/dist-packages/keras/backend/tensorflow_backend.py:190: The name tf.get_default_session is deprecated. Please use tf.compat.v1.get_default_session instead.\n",
            "\n",
            "WARNING:tensorflow:From /usr/local/lib/python3.6/dist-packages/keras/backend/tensorflow_backend.py:197: The name tf.ConfigProto is deprecated. Please use tf.compat.v1.ConfigProto instead.\n",
            "\n",
            "WARNING:tensorflow:From /usr/local/lib/python3.6/dist-packages/keras/backend/tensorflow_backend.py:207: The name tf.global_variables is deprecated. Please use tf.compat.v1.global_variables instead.\n",
            "\n",
            "WARNING:tensorflow:From /usr/local/lib/python3.6/dist-packages/keras/backend/tensorflow_backend.py:216: The name tf.is_variable_initialized is deprecated. Please use tf.compat.v1.is_variable_initialized instead.\n",
            "\n",
            "WARNING:tensorflow:From /usr/local/lib/python3.6/dist-packages/keras/backend/tensorflow_backend.py:223: The name tf.variables_initializer is deprecated. Please use tf.compat.v1.variables_initializer instead.\n",
            "\n"
          ],
          "name": "stdout"
        }
      ]
    },
    {
      "cell_type": "code",
      "metadata": {
        "id": "CeK4D0Tje30X",
        "colab_type": "code",
        "outputId": "ed195b0a-8e0a-4960-fd44-4563bf681692",
        "colab": {
          "base_uri": "https://localhost:8080/",
          "height": 1000
        }
      },
      "source": [
        "#Summarize results\n",
        "print(\"Best: %f using %s\" % (grid_result.best_score_, grid_result.best_params_))\n",
        "means = grid_result.cv_results_['mean_test_score']\n",
        "stds = grid_result.cv_results_['std_test_score']\n",
        "params = grid_result.cv_results_['params']\n",
        "for mean, stdev, param in zip(means, stds, params):\n",
        "    print(\"%f (%f) with: %r\" % (mean, stdev, param))"
      ],
      "execution_count": 0,
      "outputs": [
        {
          "output_type": "stream",
          "text": [
            "Best: 0.593333 using {'neurons': 27}\n",
            "0.503333 (0.262657) with: {'neurons': 1}\n",
            "0.506667 (0.211240) with: {'neurons': 2}\n",
            "0.483333 (0.109798) with: {'neurons': 3}\n",
            "0.550000 (0.219216) with: {'neurons': 4}\n",
            "0.503333 (0.204641) with: {'neurons': 5}\n",
            "0.480000 (0.168127) with: {'neurons': 6}\n",
            "0.540000 (0.213333) with: {'neurons': 7}\n",
            "0.500000 (0.176383) with: {'neurons': 8}\n",
            "0.480000 (0.121289) with: {'neurons': 9}\n",
            "0.486667 (0.122202) with: {'neurons': 10}\n",
            "0.500000 (0.161933) with: {'neurons': 11}\n",
            "0.590000 (0.133375) with: {'neurons': 12}\n",
            "0.500000 (0.229492) with: {'neurons': 13}\n",
            "0.543333 (0.154955) with: {'neurons': 14}\n",
            "0.540000 (0.138082) with: {'neurons': 15}\n",
            "0.483333 (0.141618) with: {'neurons': 16}\n",
            "0.573333 (0.169837) with: {'neurons': 17}\n",
            "0.463333 (0.137800) with: {'neurons': 18}\n",
            "0.463333 (0.137800) with: {'neurons': 19}\n",
            "0.486667 (0.175879) with: {'neurons': 20}\n",
            "0.460000 (0.178761) with: {'neurons': 21}\n",
            "0.460000 (0.146667) with: {'neurons': 22}\n",
            "0.476667 (0.159199) with: {'neurons': 23}\n",
            "0.480000 (0.240463) with: {'neurons': 24}\n",
            "0.503333 (0.142556) with: {'neurons': 25}\n",
            "0.496667 (0.192325) with: {'neurons': 26}\n",
            "0.593333 (0.159722) with: {'neurons': 27}\n",
            "0.530000 (0.167631) with: {'neurons': 28}\n",
            "0.516667 (0.152206) with: {'neurons': 29}\n",
            "0.516667 (0.197906) with: {'neurons': 30}\n",
            "0.550000 (0.144722) with: {'neurons': 31}\n",
            "0.503333 (0.133708) with: {'neurons': 32}\n",
            "0.493333 (0.211240) with: {'neurons': 33}\n",
            "0.496667 (0.177294) with: {'neurons': 34}\n",
            "0.500000 (0.122927) with: {'neurons': 35}\n",
            "0.480000 (0.168127) with: {'neurons': 36}\n",
            "0.446667 (0.142361) with: {'neurons': 37}\n",
            "0.496667 (0.177294) with: {'neurons': 38}\n",
            "0.463333 (0.128625) with: {'neurons': 39}\n",
            "0.460000 (0.146667) with: {'neurons': 40}\n",
            "0.530000 (0.174770) with: {'neurons': 41}\n",
            "0.463333 (0.156667) with: {'neurons': 42}\n",
            "0.426667 (0.133167) with: {'neurons': 43}\n",
            "0.520000 (0.121289) with: {'neurons': 44}\n",
            "0.520000 (0.150702) with: {'neurons': 45}\n",
            "0.460000 (0.146667) with: {'neurons': 46}\n",
            "0.530000 (0.183454) with: {'neurons': 47}\n",
            "0.483333 (0.183333) with: {'neurons': 48}\n",
            "0.496667 (0.177294) with: {'neurons': 49}\n",
            "0.496667 (0.177294) with: {'neurons': 50}\n",
            "0.550000 (0.162788) with: {'neurons': 51}\n",
            "0.583333 (0.182117) with: {'neurons': 52}\n",
            "0.513333 (0.184511) with: {'neurons': 53}\n",
            "0.500000 (0.122927) with: {'neurons': 54}\n",
            "0.513333 (0.177764) with: {'neurons': 55}\n",
            "0.550000 (0.162788) with: {'neurons': 56}\n",
            "0.513333 (0.143139) with: {'neurons': 57}\n",
            "0.460000 (0.207525) with: {'neurons': 58}\n",
            "0.513333 (0.184511) with: {'neurons': 59}\n",
            "0.460000 (0.164519) with: {'neurons': 60}\n"
          ],
          "name": "stdout"
        }
      ]
    }
  ]
}