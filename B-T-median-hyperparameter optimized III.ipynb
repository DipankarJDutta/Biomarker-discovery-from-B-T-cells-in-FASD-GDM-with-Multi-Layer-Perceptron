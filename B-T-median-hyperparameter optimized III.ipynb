{
  "nbformat": 4,
  "nbformat_minor": 0,
  "metadata": {
    "colab": {
      "name": "MLP_T-cells_AS_EtOH-GDM_z-score.ipynb",
      "provenance": [],
      "collapsed_sections": [],
      "include_colab_link": true
    },
    "kernelspec": {
      "name": "python3",
      "display_name": "Python 3"
    },
    "accelerator": "TPU"
  },
  "cells": [
    {
      "cell_type": "markdown",
      "metadata": {
        "id": "view-in-github",
        "colab_type": "text"
      },
      "source": [
        "<a href=\"https://colab.research.google.com/github/DipankarJDutta/Biomarker-discovery-for-FASD-GDM-with-B-T-cells/blob/master/B-T-median-hyperparameter%20optimized%20III.ipynb\" target=\"_parent\"><img src=\"https://colab.research.google.com/assets/colab-badge.svg\" alt=\"Open In Colab\"/></a>"
      ]
    },
    {
      "cell_type": "code",
      "metadata": {
        "id": "vq1swH0sPZvo",
        "colab_type": "code",
        "outputId": "59b62d74-0070-48d8-e3ca-99bd11dc20f4",
        "colab": {
          "base_uri": "https://localhost:8080/",
          "height": 204
        }
      },
      "source": [
        "#Loading essentials\n",
        "from numpy import loadtxt\n",
        "from keras.models import Sequential\n",
        "from keras.layers import Dense\n",
        "from keras.layers import Dropout\n",
        "from keras.constraints import maxnorm\n",
        "from sklearn.model_selection import StratifiedKFold\n",
        "import numpy as np\n",
        "\n",
        "# Fixing random seed for reproducibility\n",
        "from numpy.random import seed\n",
        "seed(7)\n",
        "from tensorflow import set_random_seed\n",
        "set_random_seed(7)\n",
        "\n",
        "#load dataset\n",
        "dataset = loadtxt ('B-T-median_-1.csv', delimiter = ',')\n",
        "\n",
        "#split dataset into input and output variables\n",
        "x = dataset [:, 0:29]\n",
        "y = dataset [:, 29]\n",
        "\n",
        "# define 10-fold cross validation test harness\n",
        "kfold = StratifiedKFold(n_splits=10, shuffle=True)\n",
        "cvscores = []\n",
        "for train, test in kfold.split(x, y):\n",
        "  # create model\n",
        "  model = Sequential ()\n",
        "  model.add(Dense(27, input_dim=29, kernel_initializer='glorot_normal', activation='relu'))\n",
        "  model.add(Dropout(0.0))\n",
        "  model.add(Dense(39, kernel_initializer='glorot_normal', activation='relu'))\n",
        "  model.add(Dropout(0.0))\n",
        "  model.add(Dense(1, kernel_initializer='glorot_normal', activation='sigmoid'))\n",
        "  # Compile model\n",
        "  model.compile(loss='binary_crossentropy', optimizer='adam', metrics=['accuracy'])\n",
        "  # Fit the model\n",
        "  model.fit(x[train], y[train], epochs=240, batch_size=5, verbose=0)\n",
        "  # evaluate the model\n",
        "  scores = model.evaluate(x[test], y[test], verbose=0)\n",
        "  print(\"%s: %.2f%%\" % (model.metrics_names[1], scores[1]*100))\n",
        "  cvscores.append(scores[1] * 100)\n",
        "print(\"%.2f%% (+/- %.2f%%)\" % (np.mean(cvscores), np.std(cvscores)))"
      ],
      "execution_count": 8,
      "outputs": [
        {
          "output_type": "stream",
          "text": [
            "acc: 83.33%\n",
            "acc: 66.67%\n",
            "acc: 66.67%\n",
            "acc: 66.67%\n",
            "acc: 66.67%\n",
            "acc: 66.67%\n",
            "acc: 20.00%\n",
            "acc: 80.00%\n",
            "acc: 60.00%\n",
            "acc: 80.00%\n",
            "65.67% (+/- 16.87%)\n"
          ],
          "name": "stdout"
        }
      ]
    }
  ]
}