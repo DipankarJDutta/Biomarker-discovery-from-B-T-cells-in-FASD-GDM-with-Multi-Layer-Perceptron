{
  "nbformat": 4,
  "nbformat_minor": 0,
  "metadata": {
    "colab": {
      "name": "MLP_T-cells_AS_EtOH-GDM_z-score_batch size grid search.ipynb",
      "provenance": [],
      "collapsed_sections": [],
      "include_colab_link": true
    },
    "kernelspec": {
      "name": "python3",
      "display_name": "Python 3"
    },
    "accelerator": "TPU"
  },
  "cells": [
    {
      "cell_type": "markdown",
      "metadata": {
        "id": "view-in-github",
        "colab_type": "text"
      },
      "source": [
        "<a href=\"https://colab.research.google.com/github/DipankarJDutta/Biomarker-discovery-for-FASD-GDM-with-B-T-cells/blob/Optimizing-batch-size/B-T-Median_optimizing%20batch%20size.ipynb\" target=\"_parent\"><img src=\"https://colab.research.google.com/assets/colab-badge.svg\" alt=\"Open In Colab\"/></a>"
      ]
    },
    {
      "cell_type": "code",
      "metadata": {
        "id": "86TLkXaLMzkK",
        "colab_type": "code",
        "colab": {
          "base_uri": "https://localhost:8080/",
          "height": 34
        },
        "outputId": "88076e41-debf-44dc-98ba-25d7d9c113a6"
      },
      "source": [
        "#Loading essentials\n",
        "from numpy import loadtxt\n",
        "from sklearn.model_selection import GridSearchCV\n",
        "from keras.models import Sequential\n",
        "from keras.layers import Dense\n",
        "from keras.wrappers.scikit_learn import KerasClassifier"
      ],
      "execution_count": 1,
      "outputs": [
        {
          "output_type": "stream",
          "text": [
            "Using TensorFlow backend.\n"
          ],
          "name": "stderr"
        }
      ]
    },
    {
      "cell_type": "code",
      "metadata": {
        "id": "72EdN6digaMt",
        "colab_type": "code",
        "colab": {}
      },
      "source": [
        "# Fixing random seed for reproducibility\n",
        "from numpy.random import seed\n",
        "seed(7)\n",
        "from tensorflow import set_random_seed\n",
        "set_random_seed(7)"
      ],
      "execution_count": 0,
      "outputs": []
    },
    {
      "cell_type": "code",
      "metadata": {
        "id": "QL_LIVyLWKvA",
        "colab_type": "code",
        "colab": {}
      },
      "source": [
        "#Creating model for KerasClassifier\n",
        "def create_model():\n",
        "    #create model\n",
        "    model = Sequential()\n",
        "    model.add(Dense(27, input_dim=29, activation='relu'))\n",
        "    model.add(Dense(1, activation='relu'))\n",
        "    model.add(Dense(1, activation='sigmoid'))\n",
        "    #compile model\n",
        "    model.compile(loss='binary_crossentropy', optimizer='adam', metrics=['accuracy'])\n",
        "    return model"
      ],
      "execution_count": 0,
      "outputs": []
    },
    {
      "cell_type": "code",
      "metadata": {
        "id": "cf2BdOONOrca",
        "colab_type": "code",
        "colab": {}
      },
      "source": [
        "#load z-scored inclevel values of significantly AS genes in T-cells common to EtOH & GDM datasets\n",
        "dataset = loadtxt ('B-T-median.csv', delimiter = ',')"
      ],
      "execution_count": 0,
      "outputs": []
    },
    {
      "cell_type": "code",
      "metadata": {
        "id": "HYDe7ikEO-q0",
        "colab_type": "code",
        "colab": {}
      },
      "source": [
        "#split dataset into input and output variables (25 input, 1 output)\n",
        "x = dataset [:, 0:29]\n",
        "y = dataset [:, 29]"
      ],
      "execution_count": 0,
      "outputs": []
    },
    {
      "cell_type": "code",
      "metadata": {
        "id": "-Q3xyQYHXY4f",
        "colab_type": "code",
        "colab": {}
      },
      "source": [
        "#Create model for gridsearch\n",
        "model = KerasClassifier (build_fn=create_model, verbose=0)"
      ],
      "execution_count": 0,
      "outputs": []
    },
    {
      "cell_type": "code",
      "metadata": {
        "id": "qt5dX1ylX6Hs",
        "colab_type": "code",
        "outputId": "5d6b0cc0-6e25-4a69-bbee-ab2283b7edf5",
        "colab": {
          "base_uri": "https://localhost:8080/",
          "height": 564
        }
      },
      "source": [
        "#Define Grid Search parameters for optimal Batch size for input T-cell dataset with 47 samples\n",
        "batch_size = [1,2,3,4,5,6,7,8,9,10,11,12,13,14,15,16,17,18,19,20,21,22,23,24,25,26,27,28,29,30,31,32,33,34,35,36,37,38,39,40,41,42,43,44,45,46,47,48,49,50,51,52,53,54,55,56]\n",
        "param_grid = dict(batch_size = batch_size)\n",
        "#Jobs are run in parallel with n_jobs=-1; 10-fold cross-validation\n",
        "grid = GridSearchCV(estimator=model, param_grid = param_grid, n_jobs=-1, cv=10)\n",
        "grid_result = grid.fit(x, y)"
      ],
      "execution_count": 7,
      "outputs": [
        {
          "output_type": "stream",
          "text": [
            "/usr/local/lib/python3.6/dist-packages/joblib/externals/loky/process_executor.py:706: UserWarning: A worker stopped while some jobs were given to the executor. This can be caused by a too short worker timeout or by a memory leak.\n",
            "  \"timeout or by a memory leak.\", UserWarning\n"
          ],
          "name": "stderr"
        },
        {
          "output_type": "stream",
          "text": [
            "WARNING:tensorflow:From /usr/local/lib/python3.6/dist-packages/keras/backend/tensorflow_backend.py:66: The name tf.get_default_graph is deprecated. Please use tf.compat.v1.get_default_graph instead.\n",
            "\n",
            "WARNING:tensorflow:From /usr/local/lib/python3.6/dist-packages/keras/backend/tensorflow_backend.py:541: The name tf.placeholder is deprecated. Please use tf.compat.v1.placeholder instead.\n",
            "\n",
            "WARNING:tensorflow:From /usr/local/lib/python3.6/dist-packages/keras/backend/tensorflow_backend.py:4432: The name tf.random_uniform is deprecated. Please use tf.random.uniform instead.\n",
            "\n",
            "WARNING:tensorflow:From /usr/local/lib/python3.6/dist-packages/keras/optimizers.py:793: The name tf.train.Optimizer is deprecated. Please use tf.compat.v1.train.Optimizer instead.\n",
            "\n",
            "WARNING:tensorflow:From /usr/local/lib/python3.6/dist-packages/keras/backend/tensorflow_backend.py:3657: The name tf.log is deprecated. Please use tf.math.log instead.\n",
            "\n",
            "WARNING:tensorflow:From /usr/local/lib/python3.6/dist-packages/tensorflow_core/python/ops/nn_impl.py:183: where (from tensorflow.python.ops.array_ops) is deprecated and will be removed in a future version.\n",
            "Instructions for updating:\n",
            "Use tf.where in 2.0, which has the same broadcast rule as np.where\n",
            "WARNING:tensorflow:From /usr/local/lib/python3.6/dist-packages/keras/backend/tensorflow_backend.py:1033: The name tf.assign_add is deprecated. Please use tf.compat.v1.assign_add instead.\n",
            "\n",
            "WARNING:tensorflow:From /usr/local/lib/python3.6/dist-packages/keras/backend/tensorflow_backend.py:1020: The name tf.assign is deprecated. Please use tf.compat.v1.assign instead.\n",
            "\n",
            "WARNING:tensorflow:From /usr/local/lib/python3.6/dist-packages/keras/backend/tensorflow_backend.py:3005: The name tf.Session is deprecated. Please use tf.compat.v1.Session instead.\n",
            "\n",
            "WARNING:tensorflow:From /usr/local/lib/python3.6/dist-packages/keras/backend/tensorflow_backend.py:190: The name tf.get_default_session is deprecated. Please use tf.compat.v1.get_default_session instead.\n",
            "\n",
            "WARNING:tensorflow:From /usr/local/lib/python3.6/dist-packages/keras/backend/tensorflow_backend.py:197: The name tf.ConfigProto is deprecated. Please use tf.compat.v1.ConfigProto instead.\n",
            "\n",
            "WARNING:tensorflow:From /usr/local/lib/python3.6/dist-packages/keras/backend/tensorflow_backend.py:207: The name tf.global_variables is deprecated. Please use tf.compat.v1.global_variables instead.\n",
            "\n",
            "WARNING:tensorflow:From /usr/local/lib/python3.6/dist-packages/keras/backend/tensorflow_backend.py:216: The name tf.is_variable_initialized is deprecated. Please use tf.compat.v1.is_variable_initialized instead.\n",
            "\n",
            "WARNING:tensorflow:From /usr/local/lib/python3.6/dist-packages/keras/backend/tensorflow_backend.py:223: The name tf.variables_initializer is deprecated. Please use tf.compat.v1.variables_initializer instead.\n",
            "\n"
          ],
          "name": "stdout"
        }
      ]
    },
    {
      "cell_type": "code",
      "metadata": {
        "id": "CeK4D0Tje30X",
        "colab_type": "code",
        "outputId": "52deda63-96a2-4514-9ff3-967d50c94070",
        "colab": {
          "base_uri": "https://localhost:8080/",
          "height": 986
        }
      },
      "source": [
        "#Summarize results\n",
        "print(\"Best: %f using %s\" % (grid_result.best_score_, grid_result.best_params_))\n",
        "means = grid_result.cv_results_['mean_test_score']\n",
        "stds = grid_result.cv_results_['std_test_score']\n",
        "params = grid_result.cv_results_['params']\n",
        "for mean, stdev, param in zip(means, stds, params):\n",
        "    print(\"%f (%f) with: %r\" % (mean, stdev, param))"
      ],
      "execution_count": 8,
      "outputs": [
        {
          "output_type": "stream",
          "text": [
            "Best: 0.630000 using {'batch_size': 45}\n",
            "0.440000 (0.221510) with: {'batch_size': 1}\n",
            "0.453333 (0.206128) with: {'batch_size': 2}\n",
            "0.456667 (0.285209) with: {'batch_size': 3}\n",
            "0.560000 (0.181842) with: {'batch_size': 4}\n",
            "0.543333 (0.231445) with: {'batch_size': 5}\n",
            "0.400000 (0.225093) with: {'batch_size': 6}\n",
            "0.493333 (0.292043) with: {'batch_size': 7}\n",
            "0.373333 (0.205372) with: {'batch_size': 8}\n",
            "0.550000 (0.288386) with: {'batch_size': 9}\n",
            "0.436667 (0.270165) with: {'batch_size': 10}\n",
            "0.403333 (0.195192) with: {'batch_size': 11}\n",
            "0.316667 (0.139244) with: {'batch_size': 12}\n",
            "0.483333 (0.246419) with: {'batch_size': 13}\n",
            "0.460000 (0.201550) with: {'batch_size': 14}\n",
            "0.500000 (0.241293) with: {'batch_size': 15}\n",
            "0.390000 (0.194394) with: {'batch_size': 16}\n",
            "0.450000 (0.241868) with: {'batch_size': 17}\n",
            "0.516667 (0.247768) with: {'batch_size': 18}\n",
            "0.390000 (0.284429) with: {'batch_size': 19}\n",
            "0.450000 (0.230097) with: {'batch_size': 20}\n",
            "0.483333 (0.246419) with: {'batch_size': 21}\n",
            "0.513333 (0.197315) with: {'batch_size': 22}\n",
            "0.423333 (0.234781) with: {'batch_size': 23}\n",
            "0.513333 (0.223706) with: {'batch_size': 24}\n",
            "0.450000 (0.241868) with: {'batch_size': 25}\n",
            "0.433333 (0.219596) with: {'batch_size': 26}\n",
            "0.470000 (0.262234) with: {'batch_size': 27}\n",
            "0.496667 (0.287305) with: {'batch_size': 28}\n",
            "0.426667 (0.293561) with: {'batch_size': 29}\n",
            "0.526667 (0.239815) with: {'batch_size': 30}\n",
            "0.523333 (0.229032) with: {'batch_size': 31}\n",
            "0.410000 (0.183818) with: {'batch_size': 32}\n",
            "0.610000 (0.222636) with: {'batch_size': 33}\n",
            "0.476667 (0.245877) with: {'batch_size': 34}\n",
            "0.483333 (0.234876) with: {'batch_size': 35}\n",
            "0.430000 (0.219317) with: {'batch_size': 36}\n",
            "0.516667 (0.236291) with: {'batch_size': 37}\n",
            "0.506667 (0.224004) with: {'batch_size': 38}\n",
            "0.356667 (0.201136) with: {'batch_size': 39}\n",
            "0.446667 (0.217664) with: {'batch_size': 40}\n",
            "0.503333 (0.230193) with: {'batch_size': 41}\n",
            "0.516667 (0.246419) with: {'batch_size': 42}\n",
            "0.476667 (0.286376) with: {'batch_size': 43}\n",
            "0.486667 (0.261704) with: {'batch_size': 44}\n",
            "0.630000 (0.167631) with: {'batch_size': 45}\n",
            "0.473333 (0.272356) with: {'batch_size': 46}\n",
            "0.390000 (0.194394) with: {'batch_size': 47}\n",
            "0.466667 (0.188562) with: {'batch_size': 48}\n",
            "0.416667 (0.244154) with: {'batch_size': 49}\n",
            "0.516667 (0.246419) with: {'batch_size': 50}\n",
            "0.556667 (0.210317) with: {'batch_size': 51}\n",
            "0.423333 (0.246329) with: {'batch_size': 52}\n",
            "0.516667 (0.229613) with: {'batch_size': 53}\n",
            "0.493333 (0.241201) with: {'batch_size': 54}\n",
            "0.476667 (0.245877) with: {'batch_size': 55}\n",
            "0.390000 (0.238537) with: {'batch_size': 56}\n"
          ],
          "name": "stdout"
        }
      ]
    }
  ]
}