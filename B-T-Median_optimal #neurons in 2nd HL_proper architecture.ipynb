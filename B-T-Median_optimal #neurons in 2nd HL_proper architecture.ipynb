{
  "nbformat": 4,
  "nbformat_minor": 0,
  "metadata": {
    "colab": {
      "name": "MLP_T-cells_AS_EtOH-GDM_z-score_optimization algo_gridsearch.ipynb",
      "provenance": [],
      "collapsed_sections": [],
      "include_colab_link": true
    },
    "kernelspec": {
      "name": "python3",
      "display_name": "Python 3"
    },
    "accelerator": "TPU"
  },
  "cells": [
    {
      "cell_type": "markdown",
      "metadata": {
        "id": "view-in-github",
        "colab_type": "text"
      },
      "source": [
        "<a href=\"https://colab.research.google.com/github/DipankarJDutta/Biomarker-discovery-for-FASD-GDM-with-B-T-cells/blob/Optimizing-number-of-neurons-and-hidden-layers/B-T-Median_optimal%20%23neurons%20in%202nd%20HL_proper%20architecture.ipynb\" target=\"_parent\"><img src=\"https://colab.research.google.com/assets/colab-badge.svg\" alt=\"Open In Colab\"/></a>"
      ]
    },
    {
      "cell_type": "code",
      "metadata": {
        "id": "86TLkXaLMzkK",
        "colab_type": "code",
        "outputId": "d8744068-2e19-4839-e176-a10b62531e66",
        "colab": {
          "base_uri": "https://localhost:8080/",
          "height": 34
        }
      },
      "source": [
        "#Loading essentials\n",
        "import numpy\n",
        "from numpy import loadtxt\n",
        "from sklearn.model_selection import GridSearchCV\n",
        "from keras.models import Sequential\n",
        "from keras.layers import Dense\n",
        "from keras.layers import Dropout\n",
        "from keras.wrappers.scikit_learn import KerasClassifier\n",
        "from keras.constraints import maxnorm"
      ],
      "execution_count": 0,
      "outputs": [
        {
          "output_type": "stream",
          "text": [
            "Using TensorFlow backend.\n"
          ],
          "name": "stderr"
        }
      ]
    },
    {
      "cell_type": "code",
      "metadata": {
        "id": "72EdN6digaMt",
        "colab_type": "code",
        "colab": {}
      },
      "source": [
        "# Fixing random seed for reproducibility\n",
        "from numpy.random import seed\n",
        "seed(7)\n",
        "from tensorflow import set_random_seed\n",
        "set_random_seed(7)"
      ],
      "execution_count": 0,
      "outputs": []
    },
    {
      "cell_type": "code",
      "metadata": {
        "id": "QL_LIVyLWKvA",
        "colab_type": "code",
        "colab": {}
      },
      "source": [
        "#Creating model for KerasClassifier\n",
        "def create_model(neurons=1):\n",
        "    #create model\n",
        "    model = Sequential()\n",
        "    model.add(Dense(27, input_dim=29, activation='relu'))\n",
        "    model.add(Dense(neurons, activation='relu'))\n",
        "    model.add(Dense(1, activation='sigmoid'))\n",
        "    #compile model\n",
        "    model.compile(loss='binary_crossentropy', optimizer='adam', metrics=['accuracy'])\n",
        "    return model"
      ],
      "execution_count": 0,
      "outputs": []
    },
    {
      "cell_type": "code",
      "metadata": {
        "id": "cf2BdOONOrca",
        "colab_type": "code",
        "colab": {}
      },
      "source": [
        "#load dataset\n",
        "dataset = loadtxt ('B-T-median.csv', delimiter = ',')"
      ],
      "execution_count": 0,
      "outputs": []
    },
    {
      "cell_type": "code",
      "metadata": {
        "id": "HYDe7ikEO-q0",
        "colab_type": "code",
        "colab": {}
      },
      "source": [
        "#split dataset into input and output variables\n",
        "x = dataset [:, 0:29]\n",
        "y = dataset [:, 29]"
      ],
      "execution_count": 0,
      "outputs": []
    },
    {
      "cell_type": "code",
      "metadata": {
        "id": "-Q3xyQYHXY4f",
        "colab_type": "code",
        "colab": {}
      },
      "source": [
        "#Create model for gridsearch\n",
        "model = KerasClassifier (build_fn=create_model, epochs=200, batch_size=10, verbose=0)"
      ],
      "execution_count": 0,
      "outputs": []
    },
    {
      "cell_type": "code",
      "metadata": {
        "id": "qt5dX1ylX6Hs",
        "colab_type": "code",
        "outputId": "4c5de4ee-a529-4817-9341-3e46e591bff5",
        "colab": {
          "base_uri": "https://localhost:8080/",
          "height": 564
        }
      },
      "source": [
        "#Define Grid Search parameters\n",
        "neurons = [1, 2, 3, 4, 5, 6, 7, 8, 9, 10, 11, 12, 13, 14, 15, 16, 17, 18, 19, 20, 21, 22, 23, 24, 25, 26, 27, 28, 29, 30, 31, 32, 33, 34, 35, 36, 37, 38, 39, 40, 41, 42, 43, 44, 45, 46, 47, 48, 49, 50, 51, 52, 53, 54, 55, 56, 57, 58, 59, 60]\n",
        "param_grid = dict(neurons=neurons)\n",
        "#Jobs are run in parallel with n_jobs=-1; 10-fold cross-validation\n",
        "grid = GridSearchCV(estimator=model, param_grid = param_grid, n_jobs=-1, cv=10)\n",
        "grid_result = grid.fit(x, y)"
      ],
      "execution_count": 0,
      "outputs": [
        {
          "output_type": "stream",
          "text": [
            "/usr/local/lib/python3.6/dist-packages/joblib/externals/loky/process_executor.py:706: UserWarning: A worker stopped while some jobs were given to the executor. This can be caused by a too short worker timeout or by a memory leak.\n",
            "  \"timeout or by a memory leak.\", UserWarning\n"
          ],
          "name": "stderr"
        },
        {
          "output_type": "stream",
          "text": [
            "WARNING:tensorflow:From /usr/local/lib/python3.6/dist-packages/keras/backend/tensorflow_backend.py:66: The name tf.get_default_graph is deprecated. Please use tf.compat.v1.get_default_graph instead.\n",
            "\n",
            "WARNING:tensorflow:From /usr/local/lib/python3.6/dist-packages/keras/backend/tensorflow_backend.py:541: The name tf.placeholder is deprecated. Please use tf.compat.v1.placeholder instead.\n",
            "\n",
            "WARNING:tensorflow:From /usr/local/lib/python3.6/dist-packages/keras/backend/tensorflow_backend.py:4432: The name tf.random_uniform is deprecated. Please use tf.random.uniform instead.\n",
            "\n",
            "WARNING:tensorflow:From /usr/local/lib/python3.6/dist-packages/keras/optimizers.py:793: The name tf.train.Optimizer is deprecated. Please use tf.compat.v1.train.Optimizer instead.\n",
            "\n",
            "WARNING:tensorflow:From /usr/local/lib/python3.6/dist-packages/keras/backend/tensorflow_backend.py:3657: The name tf.log is deprecated. Please use tf.math.log instead.\n",
            "\n",
            "WARNING:tensorflow:From /usr/local/lib/python3.6/dist-packages/tensorflow_core/python/ops/nn_impl.py:183: where (from tensorflow.python.ops.array_ops) is deprecated and will be removed in a future version.\n",
            "Instructions for updating:\n",
            "Use tf.where in 2.0, which has the same broadcast rule as np.where\n",
            "WARNING:tensorflow:From /usr/local/lib/python3.6/dist-packages/keras/backend/tensorflow_backend.py:1033: The name tf.assign_add is deprecated. Please use tf.compat.v1.assign_add instead.\n",
            "\n",
            "WARNING:tensorflow:From /usr/local/lib/python3.6/dist-packages/keras/backend/tensorflow_backend.py:1020: The name tf.assign is deprecated. Please use tf.compat.v1.assign instead.\n",
            "\n",
            "WARNING:tensorflow:From /usr/local/lib/python3.6/dist-packages/keras/backend/tensorflow_backend.py:3005: The name tf.Session is deprecated. Please use tf.compat.v1.Session instead.\n",
            "\n",
            "WARNING:tensorflow:From /usr/local/lib/python3.6/dist-packages/keras/backend/tensorflow_backend.py:190: The name tf.get_default_session is deprecated. Please use tf.compat.v1.get_default_session instead.\n",
            "\n",
            "WARNING:tensorflow:From /usr/local/lib/python3.6/dist-packages/keras/backend/tensorflow_backend.py:197: The name tf.ConfigProto is deprecated. Please use tf.compat.v1.ConfigProto instead.\n",
            "\n",
            "WARNING:tensorflow:From /usr/local/lib/python3.6/dist-packages/keras/backend/tensorflow_backend.py:207: The name tf.global_variables is deprecated. Please use tf.compat.v1.global_variables instead.\n",
            "\n",
            "WARNING:tensorflow:From /usr/local/lib/python3.6/dist-packages/keras/backend/tensorflow_backend.py:216: The name tf.is_variable_initialized is deprecated. Please use tf.compat.v1.is_variable_initialized instead.\n",
            "\n",
            "WARNING:tensorflow:From /usr/local/lib/python3.6/dist-packages/keras/backend/tensorflow_backend.py:223: The name tf.variables_initializer is deprecated. Please use tf.compat.v1.variables_initializer instead.\n",
            "\n"
          ],
          "name": "stdout"
        }
      ]
    },
    {
      "cell_type": "code",
      "metadata": {
        "id": "CeK4D0Tje30X",
        "colab_type": "code",
        "outputId": "03abe05b-0ad1-4821-ec43-5687284cd4fd",
        "colab": {
          "base_uri": "https://localhost:8080/",
          "height": 1000
        }
      },
      "source": [
        "#Summarize results\n",
        "print(\"Best: %f using %s\" % (grid_result.best_score_, grid_result.best_params_))\n",
        "means = grid_result.cv_results_['mean_test_score']\n",
        "stds = grid_result.cv_results_['std_test_score']\n",
        "params = grid_result.cv_results_['params']\n",
        "for mean, stdev, param in zip(means, stds, params):\n",
        "    print(\"%f (%f) with: %r\" % (mean, stdev, param))"
      ],
      "execution_count": 0,
      "outputs": [
        {
          "output_type": "stream",
          "text": [
            "Best: 0.623333 using {'neurons': 39}\n",
            "0.496667 (0.212106) with: {'neurons': 1}\n",
            "0.520000 (0.168127) with: {'neurons': 2}\n",
            "0.410000 (0.152789) with: {'neurons': 3}\n",
            "0.423333 (0.203879) with: {'neurons': 4}\n",
            "0.536667 (0.128625) with: {'neurons': 5}\n",
            "0.550000 (0.124052) with: {'neurons': 6}\n",
            "0.553333 (0.133500) with: {'neurons': 7}\n",
            "0.583333 (0.166166) with: {'neurons': 8}\n",
            "0.606667 (0.142829) with: {'neurons': 9}\n",
            "0.533333 (0.188562) with: {'neurons': 10}\n",
            "0.533333 (0.148324) with: {'neurons': 11}\n",
            "0.566667 (0.127366) with: {'neurons': 12}\n",
            "0.533333 (0.158465) with: {'neurons': 13}\n",
            "0.566667 (0.127366) with: {'neurons': 14}\n",
            "0.550000 (0.144722) with: {'neurons': 15}\n",
            "0.566667 (0.165328) with: {'neurons': 16}\n",
            "0.533333 (0.139841) with: {'neurons': 17}\n",
            "0.526667 (0.197653) with: {'neurons': 18}\n",
            "0.546667 (0.179010) with: {'neurons': 19}\n",
            "0.600000 (0.147573) with: {'neurons': 20}\n",
            "0.536667 (0.104828) with: {'neurons': 21}\n",
            "0.583333 (0.128452) with: {'neurons': 22}\n",
            "0.550000 (0.193936) with: {'neurons': 23}\n",
            "0.616667 (0.144722) with: {'neurons': 24}\n",
            "0.570000 (0.113969) with: {'neurons': 25}\n",
            "0.606667 (0.108321) with: {'neurons': 26}\n",
            "0.533333 (0.196638) with: {'neurons': 27}\n",
            "0.536667 (0.173494) with: {'neurons': 28}\n",
            "0.500000 (0.161933) with: {'neurons': 29}\n",
            "0.583333 (0.166166) with: {'neurons': 30}\n",
            "0.570000 (0.187646) with: {'neurons': 31}\n",
            "0.550000 (0.144722) with: {'neurons': 32}\n",
            "0.550000 (0.133542) with: {'neurons': 33}\n",
            "0.560000 (0.118134) with: {'neurons': 34}\n",
            "0.566667 (0.165328) with: {'neurons': 35}\n",
            "0.566667 (0.165328) with: {'neurons': 36}\n",
            "0.480000 (0.121289) with: {'neurons': 37}\n",
            "0.530000 (0.204097) with: {'neurons': 38}\n",
            "0.623333 (0.165362) with: {'neurons': 39}\n",
            "0.513333 (0.122202) with: {'neurons': 40}\n",
            "0.556667 (0.198354) with: {'neurons': 41}\n",
            "0.573333 (0.098658) with: {'neurons': 42}\n",
            "0.573333 (0.204287) with: {'neurons': 43}\n",
            "0.513333 (0.122202) with: {'neurons': 44}\n",
            "0.536667 (0.173494) with: {'neurons': 45}\n",
            "0.553333 (0.133500) with: {'neurons': 46}\n",
            "0.530000 (0.150148) with: {'neurons': 47}\n",
            "0.606667 (0.108321) with: {'neurons': 48}\n",
            "0.570000 (0.206263) with: {'neurons': 49}\n",
            "0.496667 (0.153079) with: {'neurons': 50}\n",
            "0.460000 (0.146667) with: {'neurons': 51}\n",
            "0.553333 (0.081921) with: {'neurons': 52}\n",
            "0.550000 (0.099163) with: {'neurons': 53}\n",
            "0.496667 (0.153079) with: {'neurons': 54}\n",
            "0.513333 (0.198997) with: {'neurons': 55}\n",
            "0.516667 (0.109798) with: {'neurons': 56}\n",
            "0.553333 (0.177138) with: {'neurons': 57}\n",
            "0.563333 (0.174770) with: {'neurons': 58}\n",
            "0.526667 (0.197653) with: {'neurons': 59}\n",
            "0.476667 (0.204966) with: {'neurons': 60}\n"
          ],
          "name": "stdout"
        }
      ]
    }
  ]
}