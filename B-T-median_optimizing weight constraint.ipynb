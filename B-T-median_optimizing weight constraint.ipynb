{
  "nbformat": 4,
  "nbformat_minor": 0,
  "metadata": {
    "colab": {
      "name": "MLP_T-cells_AS_EtOH-GDM_z-score_optimization algo_gridsearch.ipynb",
      "provenance": [],
      "collapsed_sections": [],
      "include_colab_link": true
    },
    "kernelspec": {
      "name": "python3",
      "display_name": "Python 3"
    },
    "accelerator": "TPU"
  },
  "cells": [
    {
      "cell_type": "markdown",
      "metadata": {
        "id": "view-in-github",
        "colab_type": "text"
      },
      "source": [
        "<a href=\"https://colab.research.google.com/github/DipankarJDutta/Biomarker-discovery-for-FASD-GDM-with-B-T-cells/blob/Optimizing-dropout-rate-and-weight-constraint/B-T-median_optimizing%20weight%20constraint.ipynb\" target=\"_parent\"><img src=\"https://colab.research.google.com/assets/colab-badge.svg\" alt=\"Open In Colab\"/></a>"
      ]
    },
    {
      "cell_type": "code",
      "metadata": {
        "id": "86TLkXaLMzkK",
        "colab_type": "code",
        "outputId": "9c71db07-9b88-437f-ae53-55e39d11ed68",
        "colab": {
          "base_uri": "https://localhost:8080/",
          "height": 34
        }
      },
      "source": [
        "#Loading essentials\n",
        "import numpy\n",
        "from numpy import loadtxt\n",
        "from sklearn.model_selection import GridSearchCV\n",
        "from keras.models import Sequential\n",
        "from keras.layers import Dense\n",
        "from keras.layers import Dropout\n",
        "from keras.wrappers.scikit_learn import KerasClassifier\n",
        "from keras.constraints import maxnorm"
      ],
      "execution_count": 0,
      "outputs": [
        {
          "output_type": "stream",
          "text": [
            "Using TensorFlow backend.\n"
          ],
          "name": "stderr"
        }
      ]
    },
    {
      "cell_type": "code",
      "metadata": {
        "id": "72EdN6digaMt",
        "colab_type": "code",
        "colab": {}
      },
      "source": [
        "# Fixing random seed for reproducibility\n",
        "from numpy.random import seed\n",
        "seed(7)\n",
        "from tensorflow import set_random_seed\n",
        "set_random_seed(7)"
      ],
      "execution_count": 0,
      "outputs": []
    },
    {
      "cell_type": "code",
      "metadata": {
        "id": "QL_LIVyLWKvA",
        "colab_type": "code",
        "colab": {}
      },
      "source": [
        "#Creating model required for KerasClassifier\n",
        "def create_model(dropout_rate=0.0, weight_constraint=0):\n",
        "    #create model\n",
        "    model = Sequential()\n",
        "    model.add(Dense(27, input_dim=29, kernel_initializer='uniform', activation='relu', kernel_constraint=maxnorm(weight_constraint)))\n",
        "    model.add(Dropout(dropout_rate))\n",
        "    model.add(Dense(1, kernel_initializer='uniform', activation='relu', kernel_constraint=maxnorm(weight_constraint)))\n",
        "    model.add(Dropout(dropout_rate))\n",
        "    model.add(Dense(1, kernel_initializer='uniform', activation='sigmoid'))\n",
        "    #compile model\n",
        "    model.compile(loss='binary_crossentropy', optimizer='adam', metrics=['accuracy'])\n",
        "    return model"
      ],
      "execution_count": 0,
      "outputs": []
    },
    {
      "cell_type": "code",
      "metadata": {
        "id": "cf2BdOONOrca",
        "colab_type": "code",
        "colab": {}
      },
      "source": [
        "#load dataset\n",
        "dataset = loadtxt ('B-T-median.csv', delimiter = ',')"
      ],
      "execution_count": 0,
      "outputs": []
    },
    {
      "cell_type": "code",
      "metadata": {
        "id": "HYDe7ikEO-q0",
        "colab_type": "code",
        "colab": {}
      },
      "source": [
        "#split dataset into input and output variables\n",
        "x = dataset [:, 0:29]\n",
        "y = dataset [:, 29]"
      ],
      "execution_count": 0,
      "outputs": []
    },
    {
      "cell_type": "code",
      "metadata": {
        "id": "-Q3xyQYHXY4f",
        "colab_type": "code",
        "colab": {}
      },
      "source": [
        "#Create model for gridsearch\n",
        "model = KerasClassifier (build_fn=create_model, epochs=240, batch_size=10, verbose=0)"
      ],
      "execution_count": 0,
      "outputs": []
    },
    {
      "cell_type": "code",
      "metadata": {
        "id": "qt5dX1ylX6Hs",
        "colab_type": "code",
        "outputId": "b66da45c-7cbe-4710-d417-7071e44710e8",
        "colab": {
          "base_uri": "https://localhost:8080/",
          "height": 683
        }
      },
      "source": [
        "#Define Grid Search parameters for optimal Batch size for input T-cell dataset with 47 samples\n",
        "weight_constraint = [1, 2, 3, 4, 5]\n",
        "dropout_rate = [0.0, 0.1, 0.2, 0.3, 0.4, 0.5, 0.6, 0.7, 0.8, 0.9]\n",
        "param_grid = dict(dropout_rate=dropout_rate, weight_constraint=weight_constraint)\n",
        "#Jobs are run in parallel with n_jobs=-1; 10-fold cross-validation\n",
        "grid = GridSearchCV(estimator=model, param_grid = param_grid, n_jobs=-1, cv=10)\n",
        "grid_result = grid.fit(x, y)"
      ],
      "execution_count": 0,
      "outputs": [
        {
          "output_type": "stream",
          "text": [
            "/usr/local/lib/python3.6/dist-packages/joblib/externals/loky/process_executor.py:706: UserWarning: A worker stopped while some jobs were given to the executor. This can be caused by a too short worker timeout or by a memory leak.\n",
            "  \"timeout or by a memory leak.\", UserWarning\n"
          ],
          "name": "stderr"
        },
        {
          "output_type": "stream",
          "text": [
            "WARNING:tensorflow:From /usr/local/lib/python3.6/dist-packages/keras/backend/tensorflow_backend.py:66: The name tf.get_default_graph is deprecated. Please use tf.compat.v1.get_default_graph instead.\n",
            "\n",
            "WARNING:tensorflow:From /usr/local/lib/python3.6/dist-packages/keras/backend/tensorflow_backend.py:541: The name tf.placeholder is deprecated. Please use tf.compat.v1.placeholder instead.\n",
            "\n",
            "WARNING:tensorflow:From /usr/local/lib/python3.6/dist-packages/keras/backend/tensorflow_backend.py:4432: The name tf.random_uniform is deprecated. Please use tf.random.uniform instead.\n",
            "\n",
            "WARNING:tensorflow:From /usr/local/lib/python3.6/dist-packages/keras/backend/tensorflow_backend.py:148: The name tf.placeholder_with_default is deprecated. Please use tf.compat.v1.placeholder_with_default instead.\n",
            "\n",
            "WARNING:tensorflow:From /usr/local/lib/python3.6/dist-packages/keras/backend/tensorflow_backend.py:3733: calling dropout (from tensorflow.python.ops.nn_ops) with keep_prob is deprecated and will be removed in a future version.\n",
            "Instructions for updating:\n",
            "Please use `rate` instead of `keep_prob`. Rate should be set to `rate = 1 - keep_prob`.\n",
            "WARNING:tensorflow:Large dropout rate: 0.7 (>0.5). In TensorFlow 2.x, dropout() uses dropout rate instead of keep_prob. Please ensure that this is intended.\n",
            "WARNING:tensorflow:Large dropout rate: 0.7 (>0.5). In TensorFlow 2.x, dropout() uses dropout rate instead of keep_prob. Please ensure that this is intended.\n",
            "WARNING:tensorflow:From /usr/local/lib/python3.6/dist-packages/keras/optimizers.py:793: The name tf.train.Optimizer is deprecated. Please use tf.compat.v1.train.Optimizer instead.\n",
            "\n",
            "WARNING:tensorflow:From /usr/local/lib/python3.6/dist-packages/keras/backend/tensorflow_backend.py:3657: The name tf.log is deprecated. Please use tf.math.log instead.\n",
            "\n",
            "WARNING:tensorflow:From /usr/local/lib/python3.6/dist-packages/tensorflow_core/python/ops/nn_impl.py:183: where (from tensorflow.python.ops.array_ops) is deprecated and will be removed in a future version.\n",
            "Instructions for updating:\n",
            "Use tf.where in 2.0, which has the same broadcast rule as np.where\n",
            "WARNING:tensorflow:From /usr/local/lib/python3.6/dist-packages/keras/backend/tensorflow_backend.py:1033: The name tf.assign_add is deprecated. Please use tf.compat.v1.assign_add instead.\n",
            "\n",
            "WARNING:tensorflow:From /usr/local/lib/python3.6/dist-packages/keras/backend/tensorflow_backend.py:1020: The name tf.assign is deprecated. Please use tf.compat.v1.assign instead.\n",
            "\n",
            "WARNING:tensorflow:From /usr/local/lib/python3.6/dist-packages/keras/backend/tensorflow_backend.py:3005: The name tf.Session is deprecated. Please use tf.compat.v1.Session instead.\n",
            "\n",
            "WARNING:tensorflow:From /usr/local/lib/python3.6/dist-packages/keras/backend/tensorflow_backend.py:190: The name tf.get_default_session is deprecated. Please use tf.compat.v1.get_default_session instead.\n",
            "\n",
            "WARNING:tensorflow:From /usr/local/lib/python3.6/dist-packages/keras/backend/tensorflow_backend.py:197: The name tf.ConfigProto is deprecated. Please use tf.compat.v1.ConfigProto instead.\n",
            "\n",
            "WARNING:tensorflow:From /usr/local/lib/python3.6/dist-packages/keras/backend/tensorflow_backend.py:207: The name tf.global_variables is deprecated. Please use tf.compat.v1.global_variables instead.\n",
            "\n",
            "WARNING:tensorflow:From /usr/local/lib/python3.6/dist-packages/keras/backend/tensorflow_backend.py:216: The name tf.is_variable_initialized is deprecated. Please use tf.compat.v1.is_variable_initialized instead.\n",
            "\n",
            "WARNING:tensorflow:From /usr/local/lib/python3.6/dist-packages/keras/backend/tensorflow_backend.py:223: The name tf.variables_initializer is deprecated. Please use tf.compat.v1.variables_initializer instead.\n",
            "\n"
          ],
          "name": "stdout"
        }
      ]
    },
    {
      "cell_type": "code",
      "metadata": {
        "id": "CeK4D0Tje30X",
        "colab_type": "code",
        "outputId": "453611f2-7d9f-4ea0-fbd2-e365a58e1648",
        "colab": {
          "base_uri": "https://localhost:8080/",
          "height": 884
        }
      },
      "source": [
        "#Summarize results\n",
        "print(\"Best: %f using %s\" % (grid_result.best_score_, grid_result.best_params_))\n",
        "means = grid_result.cv_results_['mean_test_score']\n",
        "stds = grid_result.cv_results_['std_test_score']\n",
        "params = grid_result.cv_results_['params']\n",
        "for mean, stdev, param in zip(means, stds, params):\n",
        "    print(\"%f (%f) with: %r\" % (mean, stdev, param))"
      ],
      "execution_count": 0,
      "outputs": [
        {
          "output_type": "stream",
          "text": [
            "Best: 0.563333 using {'dropout_rate': 0.7, 'weight_constraint': 2}\n",
            "0.480000 (0.223209) with: {'dropout_rate': 0.0, 'weight_constraint': 1}\n",
            "0.543333 (0.243151) with: {'dropout_rate': 0.0, 'weight_constraint': 2}\n",
            "0.490000 (0.204423) with: {'dropout_rate': 0.0, 'weight_constraint': 3}\n",
            "0.390000 (0.172595) with: {'dropout_rate': 0.0, 'weight_constraint': 4}\n",
            "0.476667 (0.250799) with: {'dropout_rate': 0.0, 'weight_constraint': 5}\n",
            "0.396667 (0.162241) with: {'dropout_rate': 0.1, 'weight_constraint': 1}\n",
            "0.393333 (0.151144) with: {'dropout_rate': 0.1, 'weight_constraint': 2}\n",
            "0.426667 (0.223010) with: {'dropout_rate': 0.1, 'weight_constraint': 3}\n",
            "0.556667 (0.210317) with: {'dropout_rate': 0.1, 'weight_constraint': 4}\n",
            "0.410000 (0.183818) with: {'dropout_rate': 0.1, 'weight_constraint': 5}\n",
            "0.466667 (0.227058) with: {'dropout_rate': 0.2, 'weight_constraint': 1}\n",
            "0.390000 (0.127410) with: {'dropout_rate': 0.2, 'weight_constraint': 2}\n",
            "0.523333 (0.203333) with: {'dropout_rate': 0.2, 'weight_constraint': 3}\n",
            "0.510000 (0.235254) with: {'dropout_rate': 0.2, 'weight_constraint': 4}\n",
            "0.410000 (0.198354) with: {'dropout_rate': 0.2, 'weight_constraint': 5}\n",
            "0.423333 (0.197793) with: {'dropout_rate': 0.3, 'weight_constraint': 1}\n",
            "0.523333 (0.229032) with: {'dropout_rate': 0.3, 'weight_constraint': 2}\n",
            "0.386667 (0.162070) with: {'dropout_rate': 0.3, 'weight_constraint': 3}\n",
            "0.400000 (0.208167) with: {'dropout_rate': 0.3, 'weight_constraint': 4}\n",
            "0.503333 (0.204641) with: {'dropout_rate': 0.3, 'weight_constraint': 5}\n",
            "0.463333 (0.227279) with: {'dropout_rate': 0.4, 'weight_constraint': 1}\n",
            "0.470000 (0.254929) with: {'dropout_rate': 0.4, 'weight_constraint': 2}\n",
            "0.443333 (0.223134) with: {'dropout_rate': 0.4, 'weight_constraint': 3}\n",
            "0.426667 (0.236549) with: {'dropout_rate': 0.4, 'weight_constraint': 4}\n",
            "0.470000 (0.210000) with: {'dropout_rate': 0.4, 'weight_constraint': 5}\n",
            "0.443333 (0.233833) with: {'dropout_rate': 0.5, 'weight_constraint': 1}\n",
            "0.483333 (0.183333) with: {'dropout_rate': 0.5, 'weight_constraint': 2}\n",
            "0.480000 (0.223209) with: {'dropout_rate': 0.5, 'weight_constraint': 3}\n",
            "0.523333 (0.229032) with: {'dropout_rate': 0.5, 'weight_constraint': 4}\n",
            "0.456667 (0.259080) with: {'dropout_rate': 0.5, 'weight_constraint': 5}\n",
            "0.503333 (0.246959) with: {'dropout_rate': 0.6, 'weight_constraint': 1}\n",
            "0.560000 (0.281583) with: {'dropout_rate': 0.6, 'weight_constraint': 2}\n",
            "0.436667 (0.202457) with: {'dropout_rate': 0.6, 'weight_constraint': 3}\n",
            "0.466667 (0.188562) with: {'dropout_rate': 0.6, 'weight_constraint': 4}\n",
            "0.526667 (0.189620) with: {'dropout_rate': 0.6, 'weight_constraint': 5}\n",
            "0.456667 (0.226102) with: {'dropout_rate': 0.7, 'weight_constraint': 1}\n",
            "0.563333 (0.270165) with: {'dropout_rate': 0.7, 'weight_constraint': 2}\n",
            "0.503333 (0.230193) with: {'dropout_rate': 0.7, 'weight_constraint': 3}\n",
            "0.523333 (0.229032) with: {'dropout_rate': 0.7, 'weight_constraint': 4}\n",
            "0.543333 (0.243151) with: {'dropout_rate': 0.7, 'weight_constraint': 5}\n",
            "0.543333 (0.243151) with: {'dropout_rate': 0.8, 'weight_constraint': 1}\n",
            "0.496667 (0.277469) with: {'dropout_rate': 0.8, 'weight_constraint': 2}\n",
            "0.510000 (0.223134) with: {'dropout_rate': 0.8, 'weight_constraint': 3}\n",
            "0.460000 (0.270719) with: {'dropout_rate': 0.8, 'weight_constraint': 4}\n",
            "0.526667 (0.227938) with: {'dropout_rate': 0.8, 'weight_constraint': 5}\n",
            "0.543333 (0.243151) with: {'dropout_rate': 0.9, 'weight_constraint': 1}\n",
            "0.543333 (0.243151) with: {'dropout_rate': 0.9, 'weight_constraint': 2}\n",
            "0.543333 (0.243151) with: {'dropout_rate': 0.9, 'weight_constraint': 3}\n",
            "0.476667 (0.245877) with: {'dropout_rate': 0.9, 'weight_constraint': 4}\n",
            "0.543333 (0.243151) with: {'dropout_rate': 0.9, 'weight_constraint': 5}\n"
          ],
          "name": "stdout"
        }
      ]
    }
  ]
}